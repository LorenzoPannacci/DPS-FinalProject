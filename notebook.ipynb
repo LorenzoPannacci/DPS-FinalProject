{
 "cells": [
  {
   "cell_type": "markdown",
   "metadata": {},
   "source": [
    "# Dependencies"
   ]
  },
  {
   "cell_type": "code",
   "execution_count": 1,
   "metadata": {},
   "outputs": [
    {
     "name": "stdout",
     "output_type": "stream",
     "text": [
      "Defaulting to user installation because normal site-packages is not writeable\n",
      "Requirement already satisfied: pyzmq in c:\\programdata\\anaconda3\\lib\\site-packages (25.1.2)\n",
      "Requirement already satisfied: cryptography in c:\\programdata\\anaconda3\\lib\\site-packages (43.0.0)\n",
      "Requirement already satisfied: sympy in c:\\programdata\\anaconda3\\lib\\site-packages (1.13.2)\n",
      "Requirement already satisfied: cffi>=1.12 in c:\\programdata\\anaconda3\\lib\\site-packages (from cryptography) (1.17.1)\n",
      "Requirement already satisfied: mpmath<1.4,>=1.1.0 in c:\\programdata\\anaconda3\\lib\\site-packages (from sympy) (1.3.0)\n",
      "Requirement already satisfied: pycparser in c:\\programdata\\anaconda3\\lib\\site-packages (from cffi>=1.12->cryptography) (2.21)\n"
     ]
    }
   ],
   "source": [
    "!pip3 install pyzmq cryptography sympy"
   ]
  },
  {
   "cell_type": "markdown",
   "metadata": {},
   "source": [
    "# Initialization"
   ]
  },
  {
   "cell_type": "code",
   "execution_count": 13,
   "metadata": {},
   "outputs": [],
   "source": [
    "from cryptography.fernet import Fernet\n",
    "import sympy\n",
    "import random\n",
    "import zmq"
   ]
  },
  {
   "cell_type": "code",
   "execution_count": 66,
   "metadata": {},
   "outputs": [],
   "source": [
    "# math\n",
    "BITS_OF_PRIME_GROUP = 64\n",
    "\n",
    "# socket\n",
    "LOCAL_PORT = 4080\n",
    "SERVER_HOST = \"localhost\"\n",
    "SERVER_PORT = 4080"
   ]
  },
  {
   "cell_type": "markdown",
   "metadata": {},
   "source": [
    "# Basics"
   ]
  },
  {
   "cell_type": "markdown",
   "metadata": {},
   "source": [
    "## Primes and Modular arithmetics"
   ]
  },
  {
   "cell_type": "code",
   "execution_count": 20,
   "metadata": {},
   "outputs": [],
   "source": [
    "def get_random_prime():\n",
    "    \"\"\"\n",
    "    Generate a random prime number of the specified number of bits.\n",
    "    \"\"\"\n",
    "\n",
    "    lower_bound = 2**(BITS_OF_PRIME_GROUP - 1)\n",
    "    upper_bound = 2**BITS_OF_PRIME_GROUP - 1\n",
    "\n",
    "    prime = sympy.randprime(lower_bound, upper_bound)\n",
    "    \n",
    "    return prime\n",
    "\n",
    "def find_generator(prime):\n",
    "    \"\"\"\n",
    "    For every prime divisor q of p -1 check if g^{(p-1)/q} ≡ 1 mod p. If that happens, discard g\n",
    "    If it survives till the last prime divisor of p - 1 is a generator.\n",
    "    \"\"\"\n",
    "\n",
    "    factors = sympy.primefactors(prime - 1)\n",
    "\n",
    "    while True:\n",
    "        candidate = random.randint(1, prime - 1)\n",
    "\n",
    "        for factor in factors:\n",
    "            if pow(candidate, (prime - 1) // factor, prime) == 1:\n",
    "                break\n",
    "\n",
    "        else:\n",
    "            return candidate"
   ]
  },
  {
   "cell_type": "markdown",
   "metadata": {},
   "source": [
    "## Secret Key Encryption"
   ]
  },
  {
   "cell_type": "markdown",
   "metadata": {},
   "source": [
    "The cryptography library contains Fernet, an implementation of symmetric (secret key) authenticated cryptography."
   ]
  },
  {
   "cell_type": "code",
   "execution_count": 54,
   "metadata": {},
   "outputs": [],
   "source": [
    "def secret_generate_key():\n",
    "    \"\"\"\n",
    "    Generate a secret key.\n",
    "    \"\"\"\n",
    "\n",
    "    key = Fernet.generate_key()\n",
    "\n",
    "    return key\n",
    "\n",
    "def secret_encrypt(msg, key):\n",
    "    \"\"\"\n",
    "    Encrypts a message with a key.\n",
    "    https://cryptography.io/en/latest/fernet/\n",
    "    \"\"\"\n",
    "\n",
    "    # initialize\n",
    "    f = Fernet(key)\n",
    "\n",
    "    # encrypt\n",
    "    token = f.encrypt(msg)\n",
    "\n",
    "    return token\n",
    "\n",
    "def secret_decrypt(token, key):\n",
    "    \"\"\"\n",
    "    Decrypts a message with a key.\n",
    "    https://cryptography.io/en/latest/fernet/\n",
    "    \"\"\"\n",
    "\n",
    "    # initialize\n",
    "    f = Fernet(key)\n",
    "\n",
    "    # decrypt\n",
    "    msg = f.decrypt(token)\n",
    "\n",
    "    return msg"
   ]
  },
  {
   "cell_type": "code",
   "execution_count": 65,
   "metadata": {},
   "outputs": [
    {
     "name": "stdout",
     "output_type": "stream",
     "text": [
      "Original message:  b'Hello, World!'\n",
      "Encrypted message:  b'gAAAAABnmmqfERZ4p9qs6SymI2ZL706Weli8ntCoF43FOiDQitd2_D85zQO0f9eFHWPLT2HNh8CWvl9l3Eaiv98Dh8D0FcgSIQ=='\n",
      "Decrypted message:  b'Hello, World!'\n",
      "Key:  b'Tmp5-Mq1ZzPGNLXX0mkmPw7OQixXoCe-pJqTarAbU4Y='\n"
     ]
    }
   ],
   "source": [
    "test_string = b\"Hello, World!\"\n",
    "\n",
    "# generate a random key\n",
    "key = secret_generate_key()\n",
    "\n",
    "# encrypt the test string\n",
    "token = secret_encrypt(test_string, key)\n",
    "\n",
    "# decrypt the test string\n",
    "msg = secret_decrypt(token, key)\n",
    "\n",
    "print(\"Original message: \", test_string)\n",
    "print(\"Encrypted message: \", token)\n",
    "print(\"Decrypted message: \", msg)\n",
    "print(\"Key: \", key)"
   ]
  },
  {
   "cell_type": "markdown",
   "metadata": {},
   "source": [
    "## Public Key Encryption"
   ]
  },
  {
   "cell_type": "markdown",
   "metadata": {},
   "source": [
    "Implementation of ElGamal encryption scheme."
   ]
  },
  {
   "cell_type": "code",
   "execution_count": 51,
   "metadata": {},
   "outputs": [],
   "source": [
    "###############################################\n",
    "# IMPLEMENTATION OF ELGAMAL ENCRYPTION SCHEME #\n",
    "###############################################\n",
    "\n",
    "def elgamal_generate_keys():\n",
    "    \"\"\"\n",
    "    Generate public and private keys for the ElGamal encryption scheme.\n",
    "    The naming scheme follows what has been used in the course slides.\n",
    "    \"\"\"\n",
    "\n",
    "    # generate random prime that defines the group\n",
    "    p = get_random_prime()\n",
    "\n",
    "    # find a generator for the group\n",
    "    g = find_generator(p)\n",
    "\n",
    "    # generate a private key as a random number\n",
    "    x = random.randint(1, p - 1)\n",
    "\n",
    "    # calculate the public key as g^x mod p\n",
    "    h = pow(g, x, p)\n",
    "\n",
    "    return (g, p, h), x\n",
    "\n",
    "def elgamal_encrypt(msg, public_key):\n",
    "    \"\"\"\n",
    "    Encrypt a message with the ElGamal encryption scheme.\n",
    "    \"\"\"\n",
    "\n",
    "    # unpack public key\n",
    "    g, p, h = public_key\n",
    "\n",
    "    # generate a random number\n",
    "    r = random.randint(1, p - 1)\n",
    "\n",
    "    # calculate the two powers of the ciphertext\n",
    "    gr = pow(g, r, p)\n",
    "    hr = pow(h, r, p)\n",
    "\n",
    "    # calculate the ciphertext\n",
    "    c = (gr, hr * msg % p)\n",
    "\n",
    "    return c\n",
    "\n",
    "def elgamal_decrypt(c, private_key, public_key):\n",
    "    \"\"\"\n",
    "    Decrypt a message with the ElGamal encryption scheme.\n",
    "    \"\"\"\n",
    "\n",
    "    # unpack private key\n",
    "    x = private_key\n",
    "\n",
    "    # unpack public key\n",
    "    g, p, h = public_key\n",
    "\n",
    "    # unpack ciphertext\n",
    "    c1, c2 = c\n",
    "\n",
    "    # decrypt message\n",
    "    m = (c2 * pow(c1, p - 1 - x, p)) % p\n",
    "\n",
    "    return m"
   ]
  },
  {
   "cell_type": "code",
   "execution_count": 53,
   "metadata": {},
   "outputs": [
    {
     "name": "stdout",
     "output_type": "stream",
     "text": [
      "Original message string: b'Hello'\n",
      "Original message integer: 310939249775\n",
      "Encrypted message: (1065225926968978035, 6816520760266536516)\n",
      "Decrypted message integer: 310939249775\n",
      "Decrypted message string: b'Hello'\n"
     ]
    }
   ],
   "source": [
    "#####################################\n",
    "# TEST OF ELGAMAL ENCRYPTION SCHEME #\n",
    "#####################################\n",
    "\n",
    "# generate keys\n",
    "public_key, private_key = elgamal_generate_keys()\n",
    "\n",
    "str_message = b\"Hello\"\n",
    "int_message = int.from_bytes(str_message, \"big\")\n",
    "\n",
    "# encrypt message\n",
    "ciphertext = elgamal_encrypt(int_message, public_key)\n",
    "\n",
    "# decrypt message\n",
    "int_retrieved = elgamal_decrypt(ciphertext, private_key, public_key)\n",
    "\n",
    "# convert the integer back to a byte string\n",
    "str_retrieved = int_retrieved.to_bytes((int_retrieved.bit_length() + 7) // 8, \"big\")\n",
    "\n",
    "print(\"Original message string:\", str_message)\n",
    "print(\"Original message integer:\", int_message)\n",
    "print(\"Encrypted message:\", ciphertext)\n",
    "print(\"Decrypted message integer:\", int_retrieved)\n",
    "print(\"Decrypted message string:\", str_retrieved)"
   ]
  },
  {
   "cell_type": "markdown",
   "metadata": {},
   "source": [
    "## Socket Communication"
   ]
  },
  {
   "cell_type": "code",
   "execution_count": 76,
   "metadata": {},
   "outputs": [],
   "source": [
    "class Socket:\n",
    "    def __init__(self, socket_type, address):\n",
    "        \"\"\"\n",
    "        Initialize a ZeroMQ socket.\n",
    "        socket_type can be zmq.REQ, zmq.REP, zmq.PUB, zmq.SUB\n",
    "        \"\"\"\n",
    "\n",
    "        # init socket settings\n",
    "        self.context = zmq.Context.instance()\n",
    "        self.socket = self.context.socket(socket_type)\n",
    "        self.address = address\n",
    "\n",
    "        if socket_type == zmq.REP:\n",
    "            self.bind()\n",
    "        elif socket_type == zmq.REQ:\n",
    "            self.connect()\n",
    "    \n",
    "    def bind(self):\n",
    "        \"\"\"\n",
    "        Bind the socket to given address.\n",
    "        \"\"\"\n",
    "\n",
    "        self.socket.bind(self.address)\n",
    "    \n",
    "    def connect(self):\n",
    "        \"\"\"\n",
    "        Connect the socket to a given address.\n",
    "        \"\"\"\n",
    "\n",
    "        self.socket.connect(self.address)\n",
    "    \n",
    "    def send(self, msg):\n",
    "        \"\"\"\n",
    "        Send a message through the socket.\n",
    "        \"\"\"\n",
    "\n",
    "        self.socket.send_pyobj(msg)\n",
    "    \n",
    "    def receive(self):\n",
    "        \"\"\"\n",
    "        Receive a message from the socket.\n",
    "        \"\"\"\n",
    "\n",
    "        return self.socket.recv_pyobj()\n",
    "    \n",
    "   \n",
    "    def close(self):\n",
    "        \"\"\"\n",
    "        Close the socket.\n",
    "        \"\"\"\n",
    "\n",
    "        self.socket.close()\n",
    "    \n",
    "    def __del__(self):\n",
    "        \"\"\"\n",
    "        Destructor to close the socket.\n",
    "        \"\"\"\n",
    "\n",
    "        self.close()"
   ]
  },
  {
   "cell_type": "code",
   "execution_count": 77,
   "metadata": {},
   "outputs": [
    {
     "name": "stdout",
     "output_type": "stream",
     "text": [
      "Client received: Hello, Server!\n",
      "Server received: Hello, Client!\n"
     ]
    }
   ],
   "source": [
    "server = Socket(socket_type=zmq.REP, address=f\"tcp://{SERVER_HOST}:{SERVER_PORT}\")\n",
    "client = Socket(socket_type=zmq.REQ, address=f\"tcp://{SERVER_HOST}:{SERVER_PORT}\")\n",
    "\n",
    "client.send(\"Hello, Server!\")\n",
    "print(\"Client received:\", server.receive())\n",
    "\n",
    "server.send(\"Hello, Client!\")\n",
    "print(\"Server received:\", client.receive())\n",
    "\n",
    "del server\n",
    "del client"
   ]
  },
  {
   "cell_type": "markdown",
   "metadata": {},
   "source": [
    "# Oblivious Transfer - Passive Security"
   ]
  },
  {
   "cell_type": "markdown",
   "metadata": {},
   "source": [
    "Implementation of a 1-out-of-2 Oblivious Transfer protocol with passive security."
   ]
  },
  {
   "cell_type": "code",
   "execution_count": null,
   "metadata": {},
   "outputs": [],
   "source": []
  }
 ],
 "metadata": {
  "kernelspec": {
   "display_name": "base",
   "language": "python",
   "name": "python3"
  },
  "language_info": {
   "codemirror_mode": {
    "name": "ipython",
    "version": 3
   },
   "file_extension": ".py",
   "mimetype": "text/x-python",
   "name": "python",
   "nbconvert_exporter": "python",
   "pygments_lexer": "ipython3",
   "version": "3.12.7"
  }
 },
 "nbformat": 4,
 "nbformat_minor": 2
}
