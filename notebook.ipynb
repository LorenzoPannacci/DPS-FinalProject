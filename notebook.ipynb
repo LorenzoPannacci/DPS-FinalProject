{
 "cells": [
  {
   "cell_type": "markdown",
   "metadata": {},
   "source": [
    "# Dependencies"
   ]
  },
  {
   "cell_type": "code",
   "execution_count": 1,
   "metadata": {},
   "outputs": [
    {
     "name": "stdout",
     "output_type": "stream",
     "text": [
      "Defaulting to user installation because normal site-packages is not writeable\n",
      "Requirement already satisfied: pyzmq in c:\\programdata\\anaconda3\\lib\\site-packages (25.1.2)\n",
      "Requirement already satisfied: cryptography in c:\\programdata\\anaconda3\\lib\\site-packages (43.0.0)\n",
      "Requirement already satisfied: sympy in c:\\programdata\\anaconda3\\lib\\site-packages (1.13.2)\n",
      "Requirement already satisfied: cffi>=1.12 in c:\\programdata\\anaconda3\\lib\\site-packages (from cryptography) (1.17.1)\n",
      "Requirement already satisfied: mpmath<1.4,>=1.1.0 in c:\\programdata\\anaconda3\\lib\\site-packages (from sympy) (1.3.0)\n",
      "Requirement already satisfied: pycparser in c:\\programdata\\anaconda3\\lib\\site-packages (from cffi>=1.12->cryptography) (2.21)\n"
     ]
    }
   ],
   "source": [
    "!pip3 install pyzmq cryptography sympy"
   ]
  },
  {
   "cell_type": "markdown",
   "metadata": {},
   "source": [
    "# Initialization"
   ]
  },
  {
   "cell_type": "code",
   "execution_count": 13,
   "metadata": {},
   "outputs": [],
   "source": [
    "from cryptography.fernet import Fernet\n",
    "import sympy\n",
    "import random\n",
    "import zmq"
   ]
  },
  {
   "cell_type": "code",
   "execution_count": 37,
   "metadata": {},
   "outputs": [],
   "source": [
    "BITS_OF_PRIME_GROUP = 64"
   ]
  },
  {
   "cell_type": "markdown",
   "metadata": {},
   "source": [
    "# Cryptography Basics"
   ]
  },
  {
   "cell_type": "markdown",
   "metadata": {},
   "source": [
    "## Modular operations"
   ]
  },
  {
   "cell_type": "code",
   "execution_count": 20,
   "metadata": {},
   "outputs": [],
   "source": [
    "def get_random_prime():\n",
    "    \"\"\"\n",
    "    Generate a random prime number of the specified number of bits.\n",
    "    \"\"\"\n",
    "\n",
    "    lower_bound = 2**(BITS_OF_PRIME_GROUP - 1)\n",
    "    upper_bound = 2**BITS_OF_PRIME_GROUP - 1\n",
    "\n",
    "    prime = sympy.randprime(lower_bound, upper_bound)\n",
    "    \n",
    "    return prime\n",
    "\n",
    "def find_generator(prime):\n",
    "    \"\"\"\n",
    "    For every prime divisor q of p -1 check if g^{(p-1)/q} ≡ 1 mod p. If that happens, discard g\n",
    "    If it survives till the last prime divisor of p - 1 is a generator.\n",
    "    \"\"\"\n",
    "\n",
    "    factors = sympy.primefactors(prime - 1)\n",
    "\n",
    "    while True:\n",
    "        candidate = random.randint(1, prime - 1)\n",
    "\n",
    "        for factor in factors:\n",
    "            if pow(candidate, (prime - 1) // factor, prime) == 1:\n",
    "                break\n",
    "\n",
    "        else:\n",
    "            return candidate"
   ]
  },
  {
   "cell_type": "markdown",
   "metadata": {},
   "source": [
    "## Secret key"
   ]
  },
  {
   "cell_type": "markdown",
   "metadata": {},
   "source": [
    "The cryptography library contains Fernet, an implementation of symmetric (secret key) authenticated cryptography."
   ]
  },
  {
   "cell_type": "code",
   "execution_count": 7,
   "metadata": {},
   "outputs": [],
   "source": [
    "def encrypt(msg, key):\n",
    "    \"\"\"\n",
    "    Encrypts a message with a key.\n",
    "    https://cryptography.io/en/latest/fernet/\n",
    "    \"\"\"\n",
    "\n",
    "    # initialize\n",
    "    f = Fernet(key)\n",
    "\n",
    "    # encrypt\n",
    "    token = f.encrypt(msg)\n",
    "\n",
    "    return token\n",
    "\n",
    "def decrypt(token, key):\n",
    "    \"\"\"\n",
    "    Decrypts a message with a key.\n",
    "    https://cryptography.io/en/latest/fernet/\n",
    "    \"\"\"\n",
    "\n",
    "    # initialize\n",
    "    f = Fernet(key)\n",
    "\n",
    "    # decrypt\n",
    "    msg = f.decrypt(token)\n",
    "\n",
    "    return msg"
   ]
  },
  {
   "cell_type": "code",
   "execution_count": 11,
   "metadata": {},
   "outputs": [
    {
     "name": "stdout",
     "output_type": "stream",
     "text": [
      "Original message:  b'Hello, World!'\n",
      "Encrypted message:  b'gAAAAABnmkis9jtC97N1okjKsS1F4NB5Z7l-KB5jWu6EWzOIdqjhfRCjRpOcTkT-kgVhYtR2CX5EZ-GGwRMctWxLM-fHjddqTA=='\n",
      "Decrypted message:  b'Hello, World!'\n"
     ]
    }
   ],
   "source": [
    "test_string = b\"Hello, World!\"\n",
    "\n",
    "# generate a random key\n",
    "key = Fernet.generate_key()\n",
    "\n",
    "# encrypt the test string\n",
    "token = encrypt(test_string, key)\n",
    "\n",
    "# decrypt the test string\n",
    "msg = decrypt(token, key)\n",
    "\n",
    "print(\"Original message: \", test_string)\n",
    "print(\"Encrypted message: \", token)\n",
    "print(\"Decrypted message: \", msg)"
   ]
  },
  {
   "cell_type": "markdown",
   "metadata": {},
   "source": [
    "## Public Key Encryption"
   ]
  },
  {
   "cell_type": "markdown",
   "metadata": {},
   "source": [
    "Implementation of ElGamal encryption scheme."
   ]
  },
  {
   "cell_type": "code",
   "execution_count": 51,
   "metadata": {},
   "outputs": [],
   "source": [
    "###############################################\n",
    "# IMPLEMENTATION OF ELGAMAL ENCRYPTION SCHEME #\n",
    "###############################################\n",
    "\n",
    "def elgamal_generate_keys():\n",
    "    \"\"\"\n",
    "    Generate public and private keys for the ElGamal encryption scheme.\n",
    "    The naming scheme follows what has been used in the course slides.\n",
    "    \"\"\"\n",
    "\n",
    "    # generate random prime that defines the group\n",
    "    p = get_random_prime()\n",
    "\n",
    "    # find a generator for the group\n",
    "    g = find_generator(p)\n",
    "\n",
    "    # generate a private key as a random number\n",
    "    x = random.randint(1, p - 1)\n",
    "\n",
    "    # calculate the public key as g^x mod p\n",
    "    h = pow(g, x, p)\n",
    "\n",
    "    return (g, p, h), x\n",
    "\n",
    "def elgamal_encrypt(msg, public_key):\n",
    "    \"\"\"\n",
    "    Encrypt a message with the ElGamal encryption scheme.\n",
    "    \"\"\"\n",
    "\n",
    "    # unpack public key\n",
    "    g, p, h = public_key\n",
    "\n",
    "    # generate a random number\n",
    "    r = random.randint(1, p - 1)\n",
    "\n",
    "    # calculate the two powers of the ciphertext\n",
    "    gr = pow(g, r, p)\n",
    "    hr = pow(h, r, p)\n",
    "\n",
    "    # calculate the ciphertext\n",
    "    c = (gr, hr * msg % p)\n",
    "\n",
    "    return c\n",
    "\n",
    "def elgamal_decrypt(c, private_key, public_key):\n",
    "    \"\"\"\n",
    "    Decrypt a message with the ElGamal encryption scheme.\n",
    "    \"\"\"\n",
    "\n",
    "    # unpack private key\n",
    "    x = private_key\n",
    "\n",
    "    # unpack public key\n",
    "    g, p, h = public_key\n",
    "\n",
    "    # unpack ciphertext\n",
    "    c1, c2 = c\n",
    "\n",
    "    # decrypt message\n",
    "    m = (c2 * pow(c1, p - 1 - x, p)) % p\n",
    "\n",
    "    return m"
   ]
  },
  {
   "cell_type": "code",
   "execution_count": 53,
   "metadata": {},
   "outputs": [
    {
     "name": "stdout",
     "output_type": "stream",
     "text": [
      "Original message string: b'Hello'\n",
      "Original message integer: 310939249775\n",
      "Encrypted message: (1065225926968978035, 6816520760266536516)\n",
      "Decrypted message integer: 310939249775\n",
      "Decrypted message string: b'Hello'\n"
     ]
    }
   ],
   "source": [
    "#####################################\n",
    "# TEST OF ELGAMAL ENCRYPTION SCHEME #\n",
    "#####################################\n",
    "\n",
    "# generate keys\n",
    "public_key, private_key = elgamal_generate_keys()\n",
    "\n",
    "str_message = b\"Hello\"\n",
    "int_message = int.from_bytes(str_message, \"big\")\n",
    "\n",
    "# encrypt message\n",
    "ciphertext = elgamal_encrypt(int_message, public_key)\n",
    "\n",
    "# decrypt message\n",
    "int_retrieved = elgamal_decrypt(ciphertext, private_key, public_key)\n",
    "\n",
    "# convert the integer back to a byte string\n",
    "str_retrieved = int_retrieved.to_bytes((int_retrieved.bit_length() + 7) // 8, \"big\")\n",
    "\n",
    "print(\"Original message string:\", str_message)\n",
    "print(\"Original message integer:\", int_message)\n",
    "print(\"Encrypted message:\", ciphertext)\n",
    "print(\"Decrypted message integer:\", int_retrieved)\n",
    "print(\"Decrypted message string:\", str_retrieved)"
   ]
  },
  {
   "cell_type": "markdown",
   "metadata": {},
   "source": [
    "# Oblivious Transfer - Active Security"
   ]
  },
  {
   "cell_type": "markdown",
   "metadata": {},
   "source": [
    "Implementation of a 1-out-of-2 Oblivious Transfer protocol with active security."
   ]
  },
  {
   "cell_type": "code",
   "execution_count": null,
   "metadata": {},
   "outputs": [],
   "source": [
    "class ObliviousTransfer:\n",
    "    def __init__(self, socket, group):\n",
    "        # to send and receive messages\n",
    "        self.socket = socket\n",
    "\n",
    "        # the group, is the g of the DL problem\n",
    "        self.group = group\n",
    "\n",
    "    def sender_side(self, msg1, msg2):\n",
    "        # generate public-secret key pair\n",
    "\n",
    "        pass\n",
    "    \n",
    "    def receiver_side(self, choice):\n",
    "        pass"
   ]
  }
 ],
 "metadata": {
  "kernelspec": {
   "display_name": "base",
   "language": "python",
   "name": "python3"
  },
  "language_info": {
   "codemirror_mode": {
    "name": "ipython",
    "version": 3
   },
   "file_extension": ".py",
   "mimetype": "text/x-python",
   "name": "python",
   "nbconvert_exporter": "python",
   "pygments_lexer": "ipython3",
   "version": "3.12.7"
  }
 },
 "nbformat": 4,
 "nbformat_minor": 2
}
