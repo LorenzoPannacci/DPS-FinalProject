{
 "cells": [
  {
   "cell_type": "markdown",
   "metadata": {},
   "source": [
    "# Dependencies"
   ]
  },
  {
   "cell_type": "code",
   "execution_count": 1,
   "metadata": {},
   "outputs": [
    {
     "name": "stdout",
     "output_type": "stream",
     "text": [
      "Defaulting to user installation because normal site-packages is not writeable\n",
      "Requirement already satisfied: pyzmq in c:\\programdata\\anaconda3\\lib\\site-packages (25.1.2)\n",
      "Requirement already satisfied: cryptography in c:\\programdata\\anaconda3\\lib\\site-packages (43.0.0)\n",
      "Requirement already satisfied: sympy in c:\\programdata\\anaconda3\\lib\\site-packages (1.13.2)\n",
      "Requirement already satisfied: cffi>=1.12 in c:\\programdata\\anaconda3\\lib\\site-packages (from cryptography) (1.17.1)\n",
      "Requirement already satisfied: mpmath<1.4,>=1.1.0 in c:\\programdata\\anaconda3\\lib\\site-packages (from sympy) (1.3.0)\n",
      "Requirement already satisfied: pycparser in c:\\programdata\\anaconda3\\lib\\site-packages (from cffi>=1.12->cryptography) (2.21)\n"
     ]
    }
   ],
   "source": [
    "!pip3 install pyzmq cryptography sympy pycryptodome"
   ]
  },
  {
   "cell_type": "markdown",
   "metadata": {},
   "source": [
    "# Initialization"
   ]
  },
  {
   "cell_type": "code",
   "execution_count": 97,
   "metadata": {},
   "outputs": [],
   "source": [
    "import sympy\n",
    "import random\n",
    "import zmq\n",
    "import threading\n",
    "from Crypto.Cipher import AES\n",
    "from Crypto.Util import Counter\n",
    "from Crypto.Random import get_random_bytes\n",
    "import base64"
   ]
  },
  {
   "cell_type": "code",
   "execution_count": 2,
   "metadata": {},
   "outputs": [],
   "source": [
    "# math\n",
    "BITS_OF_PRIME_GROUP = 512\n",
    "\n",
    "# socket\n",
    "LOCAL_PORT = 4080\n",
    "SERVER_HOST = \"localhost\"\n",
    "SERVER_PORT = 4080"
   ]
  },
  {
   "cell_type": "markdown",
   "metadata": {},
   "source": [
    "# Basics"
   ]
  },
  {
   "cell_type": "markdown",
   "metadata": {},
   "source": [
    "## Primes and Modular arithmetics"
   ]
  },
  {
   "cell_type": "code",
   "execution_count": 3,
   "metadata": {},
   "outputs": [],
   "source": [
    "def get_random_prime():\n",
    "    \"\"\"\n",
    "    Generate a random prime number of the specified number of bits.\n",
    "    \"\"\"\n",
    "\n",
    "    lower_bound = 2**(BITS_OF_PRIME_GROUP - 1)\n",
    "    upper_bound = 2**BITS_OF_PRIME_GROUP - 1\n",
    "\n",
    "    prime = sympy.randprime(lower_bound, upper_bound)\n",
    "    \n",
    "    return prime\n",
    "\n",
    "def find_generator(prime):\n",
    "    \"\"\"\n",
    "    For every prime divisor q of p -1 check if g^{(p-1)/q} ≡ 1 mod p. If that happens, discard g\n",
    "    If it survives till the last prime divisor of p - 1 is a generator.\n",
    "    \"\"\"\n",
    "\n",
    "    while 1:\n",
    "        candidate = pow(random.randint(2, prime - 1), 2, prime)\n",
    "\n",
    "        # avoid g=2 because of Bleichenbacher's attack described # in \"Generating\n",
    "        # ElGamal signatures without knowning the secret key\", 1996\n",
    "        if candidate in (1, 2):\n",
    "            continue\n",
    "\n",
    "        # Discard g if it divides p-1 because of the attack described\n",
    "        # in Note 11.67 (iii) in HAC\n",
    "        if (prime - 1) % candidate == 0:\n",
    "            continue\n",
    "\n",
    "        # g^{-1} must not divide p-1 because of Khadir's attack described in\n",
    "        # \"Conditions of the generator for forging ElGamal signature\", 2011\n",
    "        ginv = inverse(candidate, prime)\n",
    "        if (prime - 1) % ginv == 0:\n",
    "            continue\n",
    "\n",
    "        # found\n",
    "        break\n",
    "\n",
    "    return candidate\n",
    "\n",
    "def inverse(num, prime):\n",
    "    \"\"\"\n",
    "    Multiplicative inverse.\n",
    "    \"\"\"\n",
    "\n",
    "    return pow(num, prime - 2, prime)\n",
    "\n",
    "def bitwise_xor(x, y):\n",
    "    \"\"\"\n",
    "    Perform bitwise XOR given two byte sequences.\n",
    "    \"\"\"\n",
    "\n",
    "    x_int = int.from_bytes(x, byteorder=\"big\")\n",
    "    y_int = int.from_bytes(y, byteorder=\"big\")\n",
    "\n",
    "    return (x_int ^ y_int).to_bytes(len(x), byteorder=\"big\")"
   ]
  },
  {
   "cell_type": "markdown",
   "metadata": {},
   "source": [
    "## Secret Key Encryption"
   ]
  },
  {
   "cell_type": "markdown",
   "metadata": {},
   "source": [
    "The cryptography library contains Fernet, an implementation of symmetric (secret key) authenticated cryptography."
   ]
  },
  {
   "cell_type": "code",
   "execution_count": 4,
   "metadata": {},
   "outputs": [],
   "source": [
    "###############################################\n",
    "# IMPLEMENTATION OF AES KEY ENCRYPTION SCHEME #\n",
    "###############################################\n",
    "\n",
    "def aes_generate_key():\n",
    "    \"\"\"\n",
    "    Generate a 256-bit (32-byte) secret key for AES encryption.\n",
    "    https://github.com/Legrandin/pycryptodome/blob/master/lib/Crypto/Cipher/AES.py\n",
    "    https://pycryptodome.readthedocs.io/en/latest/src/cipher/aes.html\n",
    "    \"\"\"\n",
    "\n",
    "    # AES-256 requires a 32-byte key\n",
    "    key = get_random_bytes(32)\n",
    "\n",
    "    return key\n",
    "\n",
    "def pad(msg):\n",
    "    \"\"\"\n",
    "    Pad message to be a multiple of AES block size (16 bytes).\n",
    "    \"\"\"\n",
    "\n",
    "    # get how much padding\n",
    "    padding_length = AES.block_size - len(msg) % AES.block_size\n",
    "\n",
    "    # apply padding\n",
    "    return msg + bytes([padding_length] * padding_length)\n",
    "\n",
    "def unpad(msg):\n",
    "    \"\"\"\n",
    "    Remove padding from decrypted message.\n",
    "    \"\"\"\n",
    "\n",
    "    return msg[:-msg[-1]]\n",
    "\n",
    "def aes_encrypt(msg, key):\n",
    "    \"\"\"\n",
    "    Encrypts a message with a key using AES-256 in CTR mode.\n",
    "    \"\"\"\n",
    "\n",
    "    # pad message\n",
    "    msg = pad(msg)\n",
    "\n",
    "    # init AES\n",
    "    cipher = AES.new(key, AES.MODE_CTR)\n",
    "\n",
    "    # encrypt message\n",
    "    encrypted_msg = cipher.encrypt(msg)\n",
    "\n",
    "    # return concatenation with nonce\n",
    "    return cipher.nonce + encrypted_msg\n",
    "    \n",
    "\n",
    "def aes_decrypt(token, key):\n",
    "    \"\"\"\n",
    "    Decrypts a message with a key using AES-256 in CBC mode.\n",
    "    \"\"\"\n",
    "\n",
    "    # extract nonce and encrypted message\n",
    "    nonce = token[:AES.block_size // 2]\n",
    "    encrypted_msg = token[AES.block_size // 2:]\n",
    "\n",
    "    # init AES\n",
    "    cipher = AES.new(key, AES.MODE_CTR, nonce=nonce)\n",
    "\n",
    "    # decrypt\n",
    "    decrypted_msg = cipher.decrypt(encrypted_msg)\n",
    "\n",
    "    # unpad\n",
    "    decrypted_msg = unpad(decrypted_msg)\n",
    "    return decrypted_msg"
   ]
  },
  {
   "cell_type": "code",
   "execution_count": 71,
   "metadata": {},
   "outputs": [
    {
     "name": "stdout",
     "output_type": "stream",
     "text": [
      "Original message:  Hello, World!\n",
      "Encrypted message:  b'my1wL7VT+4K09pneeIHRC8sqBNu5XUZ4'\n",
      "Decrypted message:  Hello, World!\n"
     ]
    }
   ],
   "source": [
    "#####################################\n",
    "# TEST OF AES KEY ENCRYPTION SCHEME #\n",
    "#####################################\n",
    "\n",
    "# test message\n",
    "input_msg = b\"Hello, World!\"\n",
    "\n",
    "# generate random key\n",
    "key = aes_generate_key()\n",
    "\n",
    "# encrypt the test message\n",
    "token = aes_encrypt(input_msg, key)\n",
    "\n",
    "# decrypt the test message\n",
    "output_msg = aes_decrypt(token, key)\n",
    "\n",
    "# print results\n",
    "print(\"Original message: \", input_msg.decode(\"utf-8\"))\n",
    "print(\"Encrypted message: \", base64.b64encode(token))\n",
    "print(\"Decrypted message: \", output_msg.decode(\"utf-8\"))"
   ]
  },
  {
   "cell_type": "markdown",
   "metadata": {},
   "source": [
    "## Verifiable Encryption"
   ]
  },
  {
   "cell_type": "code",
   "execution_count": 196,
   "metadata": {},
   "outputs": [],
   "source": [
    "###########################################\n",
    "# IMPLEMENTATION OF VERIFIABLE ENCRYPTION #\n",
    "###########################################\n",
    "\n",
    "def aes_as_doubling_prf(msg, key):\n",
    "    \"\"\"\n",
    "    USe AES as a pseudo-random function.\n",
    "    \"\"\"\n",
    "\n",
    "    counter1 = Counter.new(112, prefix=b'\\x00\\x01', initial_value=1)\n",
    "    counter2 = Counter.new(112, prefix=b'\\x00\\x02', initial_value=2)\n",
    "\n",
    "    # init AES\n",
    "    cipher1 = AES.new(key, AES.MODE_CTR, counter=counter1)\n",
    "    cipher2 = AES.new(key, AES.MODE_CTR, counter=counter2)\n",
    "\n",
    "    # encrypt message\n",
    "    encrypted_msg1 = cipher1.encrypt(msg)\n",
    "    encrypted_msg2 = cipher2.encrypt(msg)\n",
    "\n",
    "    return encrypted_msg1 + encrypted_msg2\n",
    "\n",
    "def verifiable_encryption(x, key):\n",
    "    \"\"\"\n",
    "    Perform encryption verifiable by adding padding with zeros in such a way that when\n",
    "    decrypting you can understand if the decryption has been successful or not.\n",
    "\n",
    "    Nomenclature is the same used in the slides.\n",
    "    \"\"\"\n",
    "\n",
    "    # create random noise\n",
    "    r = get_random_bytes(len(x))\n",
    "\n",
    "    # add padding\n",
    "    x += b'\\x00' * len(x)\n",
    "\n",
    "    prf_output = aes_as_doubling_prf(r, key)\n",
    "\n",
    "    s = bitwise_xor(prf_output, x)\n",
    "\n",
    "    return r + s\n",
    "\n",
    "def verifiable_decryption(c, key):\n",
    "    \"\"\"\n",
    "    Perform verifiable decryption\n",
    "    \"\"\"\n",
    "\n",
    "    # unpack inputs\n",
    "    r = c[:len(c) // 3]\n",
    "    s = c[len(c) // 3:]\n",
    "\n",
    "    # recompute prf\n",
    "    prf_output = aes_as_doubling_prf(r, key)\n",
    "\n",
    "    # decrypt function\n",
    "    x = bitwise_xor(prf_output, s)\n",
    "\n",
    "    n = len(x) // 2\n",
    "\n",
    "    # check if decryption is correct\n",
    "\n",
    "    if x[n:] == b'\\x00' * n:\n",
    "        return x[:n]\n",
    "\n",
    "    else:\n",
    "        return None"
   ]
  },
  {
   "cell_type": "code",
   "execution_count": 197,
   "metadata": {},
   "outputs": [
    {
     "name": "stdout",
     "output_type": "stream",
     "text": [
      "Original message           : b'\\x0f\\xf8\\x01\\xcf2\\xbeJ\\x1c\\xca\\x89\\x87\\xadnw\\xae\\xee'\n",
      "Decryption with correct key: b'\\x0f\\xf8\\x01\\xcf2\\xbeJ\\x1c\\xca\\x89\\x87\\xadnw\\xae\\xee'\n",
      "Decryption with wrong key: None\n"
     ]
    }
   ],
   "source": [
    "#################################\n",
    "# TEST OF VERIFIABLE ENCRYPTION #\n",
    "#################################\n",
    "\n",
    "msg = get_random_bytes(16)\n",
    "\n",
    "key1 = get_random_bytes(32)\n",
    "key2 = get_random_bytes(32)\n",
    "\n",
    "ciphertext = verifiable_encryption(msg, key1)\n",
    "\n",
    "decryption1 = verifiable_decryption(ciphertext, key1)\n",
    "decryption2 = verifiable_decryption(ciphertext, key2)\n",
    "\n",
    "print(f\"Original message           : {msg}\")\n",
    "print(f\"Decryption with correct key: {decryption1}\")\n",
    "print(f\"Decryption with wrong key: {decryption2}\")"
   ]
  },
  {
   "cell_type": "markdown",
   "metadata": {},
   "source": [
    "## Double Verifiable Encryption"
   ]
  },
  {
   "cell_type": "code",
   "execution_count": 217,
   "metadata": {},
   "outputs": [],
   "source": [
    "####################################################\n",
    "# IMPLEMENTATION OF DOUBLE VERIFIABLE ENCRCRYPTION #\n",
    "####################################################\n",
    "\n",
    "def double_verifiable_encryption(msg, key_x, key_y):\n",
    "    \"\"\"\n",
    "    Function for verifiable double encryption that will be needed for creating the\n",
    "    garbled tables.\n",
    "    \"\"\"\n",
    "\n",
    "    # first perform encryption with y\n",
    "    mid_ciphertext = verifiable_encryption(msg, key_y)\n",
    "\n",
    "    # then perform encryption with x\n",
    "    return verifiable_encryption(mid_ciphertext, key_x)\n",
    "\n",
    "def double_verifiable_decryption(ciphertext, key_x, key_y):\n",
    "    \"\"\"\n",
    "    Function for verifiable double decryption that will be needed for computing the\n",
    "    output of the garbled tables.\n",
    "    \"\"\"\n",
    "\n",
    "    # first perform decryption with x\n",
    "    mid_ciphertext = verifiable_decryption(ciphertext, key_x)\n",
    "\n",
    "    if mid_ciphertext is None:\n",
    "        # if first decryption goes wrong return None\n",
    "        return None\n",
    "    \n",
    "    else:\n",
    "        # then perform decryption wih y\n",
    "        return verifiable_decryption(mid_ciphertext, key_y)"
   ]
  },
  {
   "cell_type": "code",
   "execution_count": 218,
   "metadata": {},
   "outputs": [
    {
     "name": "stdout",
     "output_type": "stream",
     "text": [
      "Original message           : b'\\x85\\x15\\xff\\x93>\\x9c\\x88\\xd7\\x8e\\xfb\\x85\\x95<\\xb2Tj'\n",
      "Decryption with correct key: b'\\x85\\x15\\xff\\x93>\\x9c\\x88\\xd7\\x8e\\xfb\\x85\\x95<\\xb2Tj'\n"
     ]
    }
   ],
   "source": [
    "########################################\n",
    "# TEST OF VERIFIABLE DOUBLE ENCRYPTION #\n",
    "########################################\n",
    "\n",
    "msg = get_random_bytes(16)\n",
    "\n",
    "key1 = get_random_bytes(32)\n",
    "key2 = get_random_bytes(32)\n",
    "\n",
    "ciphertext = double_verifiable_encryption(msg, key1, key2)\n",
    "\n",
    "decryption = double_verifiable_decryption(ciphertext, key1, key2)\n",
    "\n",
    "print(f\"Original message           : {msg}\")\n",
    "print(f\"Decryption with correct key: {decryption}\")"
   ]
  },
  {
   "cell_type": "markdown",
   "metadata": {},
   "source": [
    "## Public Key Encryption"
   ]
  },
  {
   "cell_type": "markdown",
   "metadata": {},
   "source": [
    "Implementation of ElGamal encryption scheme."
   ]
  },
  {
   "cell_type": "code",
   "execution_count": 6,
   "metadata": {},
   "outputs": [],
   "source": [
    "###############################################\n",
    "# IMPLEMENTATION OF ELGAMAL ENCRYPTION SCHEME #\n",
    "###############################################\n",
    "\n",
    "def elgamal_prime_and_generator():\n",
    "    \"\"\"\n",
    "    Generate random prime and genrator for ElGamal encryption scheme.\n",
    "    The naming scheme follows what has been used in the course slides.\n",
    "    \"\"\"\n",
    "\n",
    "    # generate random prime that defines the group\n",
    "    p = get_random_prime()\n",
    "\n",
    "    # find a generator for the group\n",
    "    g = find_generator(p)\n",
    "\n",
    "    return p, g\n",
    "\n",
    "def elgamal_generate_keys(p_g = None):\n",
    "    \"\"\"\n",
    "    Generate public and private keys for the ElGamal encryption scheme.\n",
    "    The naming scheme follows what has been used in the course slides.\n",
    "    \"\"\"\n",
    "\n",
    "    # get prime and generator\n",
    "    if p_g is None:\n",
    "        p, g = elgamal_prime_and_generator()\n",
    "\n",
    "    else:\n",
    "        p, g = p_g\n",
    "\n",
    "    # generate a private key as a random number\n",
    "    x = random.randint(1, p - 1)\n",
    "\n",
    "    # calculate the public key as g^x mod p\n",
    "    h = pow(g, x, p)\n",
    "\n",
    "    return (g, p, h), x\n",
    "\n",
    "def elgamal_encrypt(msg, public_key):\n",
    "    \"\"\"\n",
    "    Encrypt a message with the ElGamal encryption scheme.\n",
    "    \"\"\"\n",
    "\n",
    "    # from bytes to integer\n",
    "    msg = int.from_bytes(msg, byteorder=\"big\")\n",
    "\n",
    "    # unpack public key\n",
    "    g, p, h = public_key\n",
    "\n",
    "    # generate a random number\n",
    "    r = random.randint(1, p - 1)\n",
    "\n",
    "    # calculate the two powers of the ciphertext\n",
    "    gr = pow(g, r, p)\n",
    "    hr = pow(h, r, p)\n",
    "\n",
    "    # calculate the ciphertext\n",
    "    c = (gr, (hr * msg) % p)\n",
    "\n",
    "    return c\n",
    "\n",
    "def elgamal_decrypt(c, private_key, public_key):\n",
    "    \"\"\"\n",
    "    Decrypt a message with the ElGamal encryption scheme.\n",
    "    \"\"\"\n",
    "\n",
    "    # unpack private key\n",
    "    x = private_key\n",
    "\n",
    "    # unpack public key\n",
    "    g, p, h = public_key\n",
    "\n",
    "    # unpack ciphertext\n",
    "    c1, c2 = c\n",
    "\n",
    "    # decrypt message\n",
    "    m = (c2 * inverse(pow(c1, x, p), p)) % p\n",
    "\n",
    "    # from integer to bytes\n",
    "    m = m.to_bytes((m.bit_length() + 7) // 8, byteorder=\"big\")\n",
    "\n",
    "    return m"
   ]
  },
  {
   "cell_type": "code",
   "execution_count": 7,
   "metadata": {},
   "outputs": [
    {
     "name": "stdout",
     "output_type": "stream",
     "text": [
      "Original message: Hello, World!\n",
      "Encrypted message: (5628464027456326819477075040268788140091020312733008201919513458952229033776955351120057793135781666419702749461387723894588372405035543883037634063413703, 662163787400519904374695406195086305480678937299514141752599279217844536074808132949284572675260413257145452103752549846634926436088197583907044035486665)\n",
      "Decrypted message: Hello, World!\n"
     ]
    }
   ],
   "source": [
    "#####################################\n",
    "# TEST OF ELGAMAL ENCRYPTION SCHEME #\n",
    "#####################################\n",
    "\n",
    "# test message\n",
    "input_msg = b\"Hello, World!\"\n",
    "\n",
    "# generate keys\n",
    "public_key, private_key = elgamal_generate_keys()\n",
    "\n",
    "# encrypt message\n",
    "ciphertext = elgamal_encrypt(input_msg, public_key)\n",
    "\n",
    "# decrypt message\n",
    "output_msg = elgamal_decrypt(ciphertext, private_key, public_key)\n",
    "\n",
    "# print results\n",
    "print(\"Original message:\", input_msg.decode())\n",
    "print(\"Encrypted message:\", ciphertext)\n",
    "print(\"Decrypted message:\", output_msg.decode())"
   ]
  },
  {
   "cell_type": "markdown",
   "metadata": {},
   "source": [
    "## Socket Communication"
   ]
  },
  {
   "cell_type": "code",
   "execution_count": 8,
   "metadata": {},
   "outputs": [],
   "source": [
    "##########################################\n",
    "# IMPLEMENTATION OF SOCKET COMMUNICATION #\n",
    "##########################################\n",
    "\n",
    "class Socket:\n",
    "    def __init__(self, socket_type, address):\n",
    "        \"\"\"\n",
    "        Initialize a ZeroMQ Socket.\n",
    "        socket_type can be zmq.REQ, zmq.REP, zmq.PUB, zmq.SUB\n",
    "        \"\"\"\n",
    "\n",
    "        # init socket settings\n",
    "        self.context = zmq.Context.instance()\n",
    "        self.socket = self.context.socket(socket_type)\n",
    "        self.address = address\n",
    "\n",
    "        if socket_type == zmq.REP:\n",
    "            self.bind()\n",
    "        elif socket_type == zmq.REQ:\n",
    "            self.connect()\n",
    "    \n",
    "    def bind(self):\n",
    "        \"\"\"\n",
    "        Bind the socket to given address.\n",
    "        \"\"\"\n",
    "\n",
    "        self.socket.bind(self.address)\n",
    "    \n",
    "    def connect(self):\n",
    "        \"\"\"\n",
    "        Connect the socket to a given address.\n",
    "        \"\"\"\n",
    "\n",
    "        self.socket.connect(self.address)\n",
    "    \n",
    "    def send(self, msg):\n",
    "        \"\"\"\n",
    "        Send a message through the socket.\n",
    "        \"\"\"\n",
    "\n",
    "        self.socket.send_pyobj(msg)\n",
    "    \n",
    "    def receive(self):\n",
    "        \"\"\"\n",
    "        Receive a message from the socket.\n",
    "        \"\"\"\n",
    "\n",
    "        return self.socket.recv_pyobj()\n",
    "    \n",
    "    def close(self):\n",
    "        \"\"\"\n",
    "        Close the socket.\n",
    "        \"\"\"\n",
    "\n",
    "        self.socket.close()\n",
    "    \n",
    "    def __del__(self):\n",
    "        \"\"\"\n",
    "        Destructor to close the socket.\n",
    "        \"\"\"\n",
    "\n",
    "        self.close()"
   ]
  },
  {
   "cell_type": "code",
   "execution_count": 9,
   "metadata": {},
   "outputs": [
    {
     "name": "stdout",
     "output_type": "stream",
     "text": [
      "Client received: Hello, Server!\n",
      "Server received: Hello, Client!\n"
     ]
    }
   ],
   "source": [
    "################################\n",
    "# TEST OF SOCKET COMMUNICATION #\n",
    "################################\n",
    "\n",
    "# create a server and a client sockets\n",
    "server = Socket(socket_type=zmq.REP, address=f\"tcp://{SERVER_HOST}:{SERVER_PORT}\")\n",
    "client = Socket(socket_type=zmq.REQ, address=f\"tcp://{SERVER_HOST}:{SERVER_PORT}\")\n",
    "\n",
    "# send a message from client to server\n",
    "client.send(\"Hello, Server!\")\n",
    "print(\"Client received:\", server.receive())\n",
    "\n",
    "# send a message from server to client\n",
    "server.send(\"Hello, Client!\")\n",
    "print(\"Server received:\", client.receive())\n",
    "\n",
    "# close the sockets\n",
    "server.close()\n",
    "client.close()"
   ]
  },
  {
   "cell_type": "markdown",
   "metadata": {},
   "source": [
    "# Oblivious Transfer"
   ]
  },
  {
   "cell_type": "markdown",
   "metadata": {},
   "source": [
    "## Passive Security"
   ]
  },
  {
   "cell_type": "markdown",
   "metadata": {},
   "source": [
    "Implementation of a 1-out-of-2 Oblivious Transfer protocol with passive security."
   ]
  },
  {
   "cell_type": "code",
   "execution_count": 10,
   "metadata": {},
   "outputs": [],
   "source": [
    "class ObliviousTransfer_PS:\n",
    "    \"\"\"\n",
    "    Implement the oblivious transfer protocol with passive security.\n",
    "\n",
    "    In passive security, Bob sends both public keys to Alice, the one he wants to receive\n",
    "    normally and the other obliviously. Alice sends the ciphertexts of both messages to Bob,\n",
    "    encrypted with the corresponding public key. Bob decrypts the chosen ciphertext,\n",
    "    receiving the message he wants.\n",
    "    \"\"\"\n",
    "\n",
    "    def __init__(self, socket):\n",
    "        # to send and receive messages\n",
    "        self.socket = socket\n",
    "\n",
    "    def receiver_side(self, choice):\n",
    "        \"\"\"\n",
    "        Implement Bob's side of the oblivious transfer protocol with passive security.\n",
    "        \"\"\"\n",
    "\n",
    "        # Bob wants message 0\n",
    "        if choice == 0:\n",
    "            pk0, sk0 = elgamal_generate_keys()\n",
    "            pk1, _ = elgamal_generate_keys() # oblivious of secret key\n",
    "            \n",
    "        # Bob wants message 1\n",
    "        else:\n",
    "            pk0, _ = elgamal_generate_keys() # oblivious of secret key\n",
    "            pk1, sk1 = elgamal_generate_keys()\n",
    "\n",
    "        # send public keys to Alice\n",
    "        self.socket.send((pk0, pk1))\n",
    "\n",
    "        # receive the ciphertexts\n",
    "        c0, c1 = self.socket.receive()\n",
    "\n",
    "        # decrypt the chosen ciphertext\n",
    "        if choice == 0:\n",
    "            m = elgamal_decrypt(c0, sk0, pk0)\n",
    "        else:\n",
    "            m = elgamal_decrypt(c1, sk1, pk1)\n",
    "\n",
    "        # close the socket\n",
    "        self.socket.close()\n",
    "\n",
    "        return m\n",
    "    \n",
    "    def sender_side(self, msg0, msg1):\n",
    "        \"\"\"\n",
    "        Implement Alice's side of the oblivious transfer protocol with passive security.\n",
    "        \"\"\"\n",
    "\n",
    "        # get the public keys from Bob\n",
    "        h0, h1 = self.socket.receive()\n",
    "\n",
    "        # encrypt the messages\n",
    "        c0 = elgamal_encrypt(msg0, h0)\n",
    "        c1 = elgamal_encrypt(msg1, h1)\n",
    "\n",
    "        # send the ciphertexts to Bob\n",
    "        self.socket.send((c0, c1))\n",
    "\n",
    "        # close the socket\n",
    "        self.socket.close()"
   ]
  },
  {
   "cell_type": "code",
   "execution_count": 11,
   "metadata": {},
   "outputs": [
    {
     "name": "stdout",
     "output_type": "stream",
     "text": [
      "Bob received: World\n"
     ]
    }
   ],
   "source": [
    "# example of Oblivious Transfer with passive security\n",
    "\n",
    "socket_bob = Socket(socket_type=zmq.REQ, address=f\"tcp://{SERVER_HOST}:{SERVER_PORT}\")\n",
    "socket_alice = Socket(socket_type=zmq.REP, address=f\"tcp://{SERVER_HOST}:{SERVER_PORT}\")\n",
    "\n",
    "def run_bob(socket_bob):\n",
    "    # initialize Bob's side\n",
    "    ot_bob = ObliviousTransfer_PS(socket_bob)\n",
    "\n",
    "    # Bob wants message 1\n",
    "    choice = 1\n",
    "\n",
    "    # run Bob's side of the protocol\n",
    "    received_message = ot_bob.receiver_side(choice)\n",
    "\n",
    "    # show the received message\n",
    "    print(\"Bob received:\", received_message.decode(\"utf-8\"))\n",
    "\n",
    "    # close the socket\n",
    "    socket_bob.close()\n",
    "\n",
    "def run_alice(socket_alice):\n",
    "    # initialize Alice's side\n",
    "    ot_alice = ObliviousTransfer_PS(socket_alice)\n",
    "\n",
    "    # get Alice's messages\n",
    "    msg0 = b\"Hello\"\n",
    "    msg1 = b\"World\"\n",
    "\n",
    "    # run Alice's side of the protocol\n",
    "    ot_alice.sender_side(msg0, msg1)\n",
    "\n",
    "    # close the socket\n",
    "    socket_alice.close()\n",
    "\n",
    "# run Alice and Bob in separate threads\n",
    "bob_thread = threading.Thread(target=run_bob, args=(socket_bob,))\n",
    "alice_thread = threading.Thread(target=run_alice, args=(socket_alice,))\n",
    "\n",
    "bob_thread.start()\n",
    "alice_thread.start()\n",
    "\n",
    "bob_thread.join()\n",
    "alice_thread.join()"
   ]
  },
  {
   "cell_type": "markdown",
   "metadata": {},
   "source": [
    "## Active Security"
   ]
  },
  {
   "cell_type": "markdown",
   "metadata": {},
   "source": [
    "Implementation of a 1-out-of-2 Oblivious Transfer protocol with active security."
   ]
  },
  {
   "cell_type": "code",
   "execution_count": 12,
   "metadata": {},
   "outputs": [],
   "source": [
    "class ObliviousTransfer_AS:\n",
    "    \"\"\"\n",
    "    Implement the oblivious transfer protocol with active security.\n",
    "\n",
    "    In active security, Alice sends two public keys to Bob, Bob will use the one linked to the message\n",
    "    he wants to recieve to encrypt his key. Alice will decrypt it using both keys, obtaining two different\n",
    "    keys. Alice will then encrypt both messages with the two keys and send them to Bob. Bob will be able\n",
    "    to decrypt only the message linked to the key he chose.\n",
    "    \"\"\"\n",
    "\n",
    "    def __init__(self, socket):\n",
    "        # to send and receive messages\n",
    "        self.socket = socket\n",
    "\n",
    "    def sender_side(self, msg0, msg1):\n",
    "        \"\"\"\n",
    "        Implement Alice's side of the oblivious transfer protocol with active security.\n",
    "        \"\"\"\n",
    "\n",
    "        # generate two key pairs\n",
    "        pk0, sk0 = elgamal_generate_keys()\n",
    "        pk1, sk1 = elgamal_generate_keys()\n",
    "\n",
    "        # send public keys to Bob\n",
    "        self.socket.send((pk0, pk1))\n",
    "\n",
    "        # recieve encrypted key from Bob\n",
    "        c = self.socket.receive()\n",
    "\n",
    "        # decrypt the key with both private keys\n",
    "        k0 = elgamal_decrypt(c, sk0, pk0)[:32]\n",
    "        k1 = elgamal_decrypt(c, sk1, pk1)[:32]\n",
    "\n",
    "        # encrypt the messages with the keys\n",
    "        c0 = aes_encrypt(msg0, k0)\n",
    "        c1 = aes_encrypt(msg1, k1)\n",
    "\n",
    "        # send the ciphertexts to Bob\n",
    "        self.socket.send((c0, c1))\n",
    "\n",
    "        # close the socket\n",
    "        self.socket.close()\n",
    "\n",
    "    def receiver_side(self, choice):\n",
    "        \"\"\"\n",
    "        Implement Bob's side of the oblivious transfer protocol with active security.\n",
    "        \"\"\"\n",
    "\n",
    "        # generate secret key\n",
    "        k = aes_generate_key()\n",
    "\n",
    "        # receive the public keys\n",
    "        pk0, pk1 = self.socket.receive()\n",
    "\n",
    "        # encrypt with the chosen public key\n",
    "        if choice == 0:\n",
    "            c = elgamal_encrypt(k, pk0)\n",
    "        \n",
    "        else:\n",
    "            c = elgamal_encrypt(k, pk1)\n",
    "\n",
    "        # send the encrypted key to Alice\n",
    "        self.socket.send(c)\n",
    "\n",
    "        # receive the ciphertexts\n",
    "        c0, c1 = self.socket.receive()\n",
    "\n",
    "        # decrypt the chosen ciphertext\n",
    "        if choice == 0:\n",
    "            m = aes_decrypt(c0, k)\n",
    "\n",
    "        else:\n",
    "            m = aes_decrypt(c1, k)\n",
    "\n",
    "        # close the socket\n",
    "        self.socket.close()\n",
    "\n",
    "        return m"
   ]
  },
  {
   "cell_type": "code",
   "execution_count": 13,
   "metadata": {},
   "outputs": [
    {
     "name": "stdout",
     "output_type": "stream",
     "text": [
      "Bob received: World\n"
     ]
    }
   ],
   "source": [
    "# example of Oblivious Transfer with active security\n",
    "\n",
    "socket_bob = Socket(socket_type=zmq.REP, address=f\"tcp://{SERVER_HOST}:{SERVER_PORT}\")\n",
    "socket_alice = Socket(socket_type=zmq.REQ, address=f\"tcp://{SERVER_HOST}:{SERVER_PORT}\")\n",
    "\n",
    "def run_bob(socket_bob):\n",
    "    # initialize Bob's side\n",
    "    ot_bob = ObliviousTransfer_AS(socket_bob)\n",
    "\n",
    "    # Bob wants message 1\n",
    "    choice = 1\n",
    "\n",
    "    # run Bob's side of the protocol\n",
    "    received_message = ot_bob.receiver_side(choice)\n",
    "\n",
    "    # show the received message\n",
    "    print(\"Bob received:\", received_message.decode(\"utf-8\"))\n",
    "\n",
    "    # close the socket\n",
    "    socket_bob.close()\n",
    "\n",
    "def run_alice(socket_alice):\n",
    "    # initialize Alice's side\n",
    "    ot_alice = ObliviousTransfer_AS(socket_alice)\n",
    "\n",
    "    # get Alice's messages\n",
    "    msg0 = b\"Hello\"\n",
    "    msg1 = b\"World\"\n",
    "\n",
    "    # run Alice's side of the protocol\n",
    "    ot_alice.sender_side(msg0, msg1)\n",
    "\n",
    "    # close the socket\n",
    "    socket_alice.close()\n",
    "\n",
    "# run Alice and Bob in separate threads\n",
    "bob_thread = threading.Thread(target=run_bob, args=(socket_bob,))\n",
    "alice_thread = threading.Thread(target=run_alice, args=(socket_alice,))\n",
    "\n",
    "bob_thread.start()\n",
    "alice_thread.start()\n",
    "\n",
    "bob_thread.join()\n",
    "alice_thread.join()"
   ]
  },
  {
   "cell_type": "markdown",
   "metadata": {},
   "source": [
    "# Circuit parsing"
   ]
  },
  {
   "cell_type": "markdown",
   "metadata": {},
   "source": [
    "Circuits written in Bristol format.\n",
    "\n",
    "Info about Bristol format here: https://nigelsmart.github.io/MPC-Circuits/old-circuits.html\n",
    "\n",
    "Example circuits take from: https://tudatalib.ulb.tu-darmstadt.de/handle/tudatalib/3776?locale-attribute=en"
   ]
  },
  {
   "cell_type": "code",
   "execution_count": 18,
   "metadata": {},
   "outputs": [],
   "source": [
    "def parse_circuit_file(filepath):\n",
    "\n",
    "    with open(filepath, 'r') as file:\n",
    "        lines = file.readlines()\n",
    "\n",
    "    # first line contains amount of gates and of wires\n",
    "    n_gates, n_wires = map(int, lines[0].split())\n",
    "\n",
    "    # second line contains amount of wires of input1, input2 and output \n",
    "    n_input1, n_input2, n_output = map(int, lines[1].split())\n",
    "\n",
    "    # process gates\n",
    "    gates = []\n",
    "\n",
    "    for line in lines[2:]:\n",
    "        parts = line.split()\n",
    "\n",
    "        if len(parts) == 0: # empty line\n",
    "            continue\n",
    "\n",
    "        if parts[0] == 1: # gate with 1 input\n",
    "            # get components\n",
    "            _, _, id_input, id_output, op = parts\n",
    "\n",
    "            # converts ids to int\n",
    "            id_input, id_output = map(int, (id_input, id_output))\n",
    "\n",
    "            # append gate\n",
    "            gates.append((op, (id_input, id_output)))\n",
    "\n",
    "        else: # gate with 2 inputs\n",
    "            # get components\n",
    "            _, _, id_input1, id_input2, id_output, op = parts\n",
    "\n",
    "            # converts ids to int\n",
    "            id_input1, id_input2, id_output = map(int, (id_input1, id_input2, id_output))\n",
    "\n",
    "            # append gate\n",
    "            gates.append((op, (id_input1, id_input2, id_output)))\n",
    "\n",
    "    parsed_circuit = {\"n_gates\": n_gates,\n",
    "                      \"n_wires\": n_wires,\n",
    "                      \"n_input1\": n_input1,\n",
    "                      \"n_input2\": n_input2,\n",
    "                      \"n_output\": n_output,\n",
    "                      \"gates\": gates}\n",
    "\n",
    "    return parsed_circuit"
   ]
  },
  {
   "cell_type": "code",
   "execution_count": 21,
   "metadata": {},
   "outputs": [
    {
     "data": {
      "text/plain": [
       "{'n_gates': 5,\n",
       " 'n_wires': 8,\n",
       " 'n_input1': 2,\n",
       " 'n_input2': 1,\n",
       " 'n_output': 2,\n",
       " 'gates': [('XOR', (0, 1, 3)),\n",
       "  ('XOR', (2, 3, 7)),\n",
       "  ('AND', (2, 3, 4)),\n",
       "  ('AND', (0, 1, 5)),\n",
       "  ('OR', (4, 5, 6))]}"
      ]
     },
     "execution_count": 21,
     "metadata": {},
     "output_type": "execute_result"
    }
   ],
   "source": [
    "filepath = r\"circuits\\fullAdder.bristol\"\n",
    "\n",
    "circuit = parse_circuit_file(filepath)\n",
    "circuit"
   ]
  },
  {
   "cell_type": "markdown",
   "metadata": {},
   "source": [
    "# Garbled Circuits"
   ]
  },
  {
   "cell_type": "code",
   "execution_count": 214,
   "metadata": {},
   "outputs": [],
   "source": [
    "class GarbledGate:\n",
    "    def __init__(self, op, wire_keys):\n",
    "        \"\"\"\n",
    "        Takes in input the operation, the wires and their keys and outputs\n",
    "        a garbled table for the gate.\n",
    "        \"\"\"\n",
    "\n",
    "        self.encrypt = verifiable_encryption\n",
    "        self.decrypt = verifiable_decryption\n",
    "        self.double_encrypt = double_verifiable_encryption\n",
    "        self.double_decrypt = double_verifiable_decryption\n",
    "\n",
    "        truth_table = self.generate_truth_table(op)\n",
    "        key_table = self.generate_key_table(op, truth_table, wire_keys)\n",
    "\n",
    "        self.garbled_table = self.generate_garbled_table(op, key_table)\n",
    "\n",
    "    def generate_key_table(self, op, truth_table, wire_keys):\n",
    "        \"\"\"\n",
    "        Take in input the truth table and the wire keeys and produce a table of encryption keys.\n",
    "        \"\"\"\n",
    "\n",
    "        key_table = []\n",
    "\n",
    "        if op == \"INV\":\n",
    "            for entry in truth_table:\n",
    "                key_table.append((wire_keys[0][entry[0]], wire_keys[1][entry[1]]))\n",
    "\n",
    "        else:\n",
    "            for entry in truth_table:\n",
    "                key_table.append((wire_keys[0][entry[0]], wire_keys[1][entry[1]], wire_keys[2][entry[2]]))\n",
    "\n",
    "        return key_table\n",
    "\n",
    "    def generate_garbled_table(self, op, key_table):\n",
    "        \"\"\"\n",
    "        Take in input the key table and return the garbled table.\n",
    "        \"\"\"\n",
    "\n",
    "        garbled_table = []\n",
    "\n",
    "        if op == \"INV\":\n",
    "            for entry in key_table:\n",
    "                garbled_table.append(self.encrypt(entry[1], entry[0]))\n",
    "\n",
    "        else:\n",
    "            for entry in key_table:\n",
    "                garbled_table.append(self.dobule_encrypt(entry[2], entry[0], entry[1]))\n",
    "        \n",
    "        return garbled_table\n",
    "\n",
    "    def generate_truth_table(self, op):\n",
    "        if op == \"AND\":\n",
    "            return [(0, 0, 0),\n",
    "                    (0, 1, 0),\n",
    "                    (1, 0, 0),\n",
    "                    (1, 1, 1)]\n",
    "        \n",
    "        elif op == \"XOR\":\n",
    "            return [(0, 0, 0),\n",
    "                    (0, 1, 1),\n",
    "                    (1, 0, 1),\n",
    "                    (1, 1, 0)]\n",
    "\n",
    "        elif op == \"OR\":\n",
    "            return [(0, 0, 0),\n",
    "                    (1, 0, 1),\n",
    "                    (0, 1, 1),\n",
    "                    (1, 1, 1)]\n",
    "\n",
    "        elif op == \"INV\":\n",
    "            return [(0, 1),\n",
    "                    (1, 0)]\n",
    "        \n",
    "        else:\n",
    "            print(f\"Gate not supported: {op}\")"
   ]
  },
  {
   "cell_type": "code",
   "execution_count": 215,
   "metadata": {},
   "outputs": [],
   "source": [
    "class GarbledCircuit:\n",
    "    def __init__(self, circuit):\n",
    "        \"\"\"\n",
    "        Given a circuit initialize the Garbled circuit\n",
    "        \"\"\"\n",
    "\n",
    "        # setup input data and functions\n",
    "        self.circuit = circuit\n",
    "        self.generate_key = get_random_bytes\n",
    "        self.garbled_table_bytes = 16\n",
    "\n",
    "        # generate all keys linked to the wires\n",
    "        self.wire_keys = self.generate_wire_keys(self.circuit[\"n_wires\"])\n",
    "\n",
    "        # generate all garble gates\n",
    "        self.garbled_gates = self.generate_garbled_gates(self.circuit[\"gates\"])\n",
    "\n",
    "    def generate_wire_keys(self, n_wires):\n",
    "        \"\"\"\n",
    "        Creates for each wire in the circuit a tuple of two keys, one for bit 1 and\n",
    "        the other for bit 0.\n",
    "        \"\"\"\n",
    "\n",
    "        return [(self.generate_key(self.garbled_table_bytes), self.generate_key(self.garbled_table_bytes)) for _ in range(n_wires)]\n",
    "    \n",
    "    def generate_garbled_gates(self, gates):\n",
    "        \"\"\"\n",
    "        Given the list of gates and their information creates a list of garbled gates.\n",
    "        \"\"\"\n",
    "\n",
    "        # initialize garbled gates list\n",
    "        garbled_gates = []\n",
    "\n",
    "        # populate the list\n",
    "        for gate in gates:\n",
    "            # get specifics from gate\n",
    "            op, wires = gate\n",
    "\n",
    "            # get keys for the required wires\n",
    "            wire_keys = [self.wire_keys[wire] for wire in wires]\n",
    "\n",
    "            # create GarbledGate object\n",
    "            garbled_gates.append(GarbledGate(op, wire_keys))\n",
    "        \n",
    "        return garbled_gates"
   ]
  },
  {
   "cell_type": "code",
   "execution_count": 216,
   "metadata": {},
   "outputs": [
    {
     "ename": "NameError",
     "evalue": "name 'double_verifiable_encryption' is not defined",
     "output_type": "error",
     "traceback": [
      "\u001b[1;31m---------------------------------------------------------------------------\u001b[0m",
      "\u001b[1;31mNameError\u001b[0m                                 Traceback (most recent call last)",
      "Cell \u001b[1;32mIn[216], line 3\u001b[0m\n\u001b[0;32m      1\u001b[0m filepath \u001b[38;5;241m=\u001b[39m \u001b[38;5;124mr\u001b[39m\u001b[38;5;124m\"\u001b[39m\u001b[38;5;124mcircuits\u001b[39m\u001b[38;5;124m\\\u001b[39m\u001b[38;5;124mfullAdder.bristol\u001b[39m\u001b[38;5;124m\"\u001b[39m\n\u001b[0;32m      2\u001b[0m circuit \u001b[38;5;241m=\u001b[39m parse_circuit_file(filepath)\n\u001b[1;32m----> 3\u001b[0m garbled_circuit \u001b[38;5;241m=\u001b[39m GarbledCircuit(circuit)\n",
      "Cell \u001b[1;32mIn[215], line 16\u001b[0m, in \u001b[0;36mGarbledCircuit.__init__\u001b[1;34m(self, circuit)\u001b[0m\n\u001b[0;32m     13\u001b[0m \u001b[38;5;28mself\u001b[39m\u001b[38;5;241m.\u001b[39mwire_keys \u001b[38;5;241m=\u001b[39m \u001b[38;5;28mself\u001b[39m\u001b[38;5;241m.\u001b[39mgenerate_wire_keys(\u001b[38;5;28mself\u001b[39m\u001b[38;5;241m.\u001b[39mcircuit[\u001b[38;5;124m\"\u001b[39m\u001b[38;5;124mn_wires\u001b[39m\u001b[38;5;124m\"\u001b[39m])\n\u001b[0;32m     15\u001b[0m \u001b[38;5;66;03m# generate all garble gates\u001b[39;00m\n\u001b[1;32m---> 16\u001b[0m \u001b[38;5;28mself\u001b[39m\u001b[38;5;241m.\u001b[39mgarbled_gates \u001b[38;5;241m=\u001b[39m \u001b[38;5;28mself\u001b[39m\u001b[38;5;241m.\u001b[39mgenerate_garbled_gates(\u001b[38;5;28mself\u001b[39m\u001b[38;5;241m.\u001b[39mcircuit[\u001b[38;5;124m\"\u001b[39m\u001b[38;5;124mgates\u001b[39m\u001b[38;5;124m\"\u001b[39m])\n",
      "Cell \u001b[1;32mIn[215], line 43\u001b[0m, in \u001b[0;36mGarbledCircuit.generate_garbled_gates\u001b[1;34m(self, gates)\u001b[0m\n\u001b[0;32m     40\u001b[0m     wire_keys \u001b[38;5;241m=\u001b[39m [\u001b[38;5;28mself\u001b[39m\u001b[38;5;241m.\u001b[39mwire_keys[wire] \u001b[38;5;28;01mfor\u001b[39;00m wire \u001b[38;5;129;01min\u001b[39;00m wires]\n\u001b[0;32m     42\u001b[0m     \u001b[38;5;66;03m# create GarbledGate object\u001b[39;00m\n\u001b[1;32m---> 43\u001b[0m     garbled_gates\u001b[38;5;241m.\u001b[39mappend(GarbledGate(op, wire_keys))\n\u001b[0;32m     45\u001b[0m \u001b[38;5;28;01mreturn\u001b[39;00m garbled_gates\n",
      "Cell \u001b[1;32mIn[214], line 10\u001b[0m, in \u001b[0;36mGarbledGate.__init__\u001b[1;34m(self, op, wire_keys)\u001b[0m\n\u001b[0;32m      8\u001b[0m \u001b[38;5;28mself\u001b[39m\u001b[38;5;241m.\u001b[39mencrypt \u001b[38;5;241m=\u001b[39m verifiable_encryption\n\u001b[0;32m      9\u001b[0m \u001b[38;5;28mself\u001b[39m\u001b[38;5;241m.\u001b[39mdecrypt \u001b[38;5;241m=\u001b[39m verifiable_decryption\n\u001b[1;32m---> 10\u001b[0m \u001b[38;5;28mself\u001b[39m\u001b[38;5;241m.\u001b[39mdouble_encrypt \u001b[38;5;241m=\u001b[39m double_verifiable_encryption\n\u001b[0;32m     11\u001b[0m \u001b[38;5;28mself\u001b[39m\u001b[38;5;241m.\u001b[39mdouble_decrypt \u001b[38;5;241m=\u001b[39m double_verifiable_decryption\n\u001b[0;32m     13\u001b[0m truth_table \u001b[38;5;241m=\u001b[39m \u001b[38;5;28mself\u001b[39m\u001b[38;5;241m.\u001b[39mgenerate_truth_table(op)\n",
      "\u001b[1;31mNameError\u001b[0m: name 'double_verifiable_encryption' is not defined"
     ]
    }
   ],
   "source": [
    "filepath = r\"circuits\\fullAdder.bristol\"\n",
    "circuit = parse_circuit_file(filepath)\n",
    "garbled_circuit = GarbledCircuit(circuit)"
   ]
  },
  {
   "cell_type": "code",
   "execution_count": 203,
   "metadata": {},
   "outputs": [
    {
     "data": {
      "text/plain": [
       "b\"\\x82\\xd7\\x97'\\xe2\\r\\xca\\xeff\\x9b\\xe77\\x9a|0\\xa5,`\\x0fZ\\x1aQv\\x15R\\xf2\\xdas\\xbc\\xb5\\xf8\\x01\\x828\\xdf=>=\\x88\\xb0\\x17\\x8d\\x93`.\\xb77\\xb2\\xda\\xf3-\\xc6r\\xb8\\x12\\xa8\\xa2S\\xb7\\xaa\\xf2v\\x97\\xd6\\xbf`\\x06\\x16=\\x84\\xb8f\\xc6\\xec8\\x94\\xd7\\x80.\\xd3\\x94\\xf2\\xe09\\xd2\\n\\x93\\xff\\xa0\\xee,h\\xe4\\x1bD\\xcd7})\\xd3\\xc6<\\x80\\xb8.\\xfcm\\x9dyo\\x94t<\\x0b\\x11\\xaa}\\x95\\xf7Ri]\\xa3*\\x0c\\xcb\\xf5\\xd9\\xba`\\xaf\\x02\\x9a\\x91\\x99\\xd8H\\xae\\xbf3\\xf9\\xcf\\xec~\""
      ]
     },
     "execution_count": 203,
     "metadata": {},
     "output_type": "execute_result"
    }
   ],
   "source": [
    "garbled_circuit.garbled_gates[0].garbled_table[0]"
   ]
  },
  {
   "cell_type": "code",
   "execution_count": 208,
   "metadata": {},
   "outputs": [
    {
     "data": {
      "text/plain": [
       "b'IZ\\x9bb?!\\xe2\\xbc\\x99\\xfd\\xe0\\x1c\\x80\\\\\\x01\\xfb'"
      ]
     },
     "execution_count": 208,
     "metadata": {},
     "output_type": "execute_result"
    }
   ],
   "source": [
    "verifiable_decryption(verifiable_decryption(garbled_circuit.garbled_gates[0].garbled_table[0], garbled_circuit.wire_keys[0][0]), garbled_circuit.wire_keys[1][0])"
   ]
  },
  {
   "cell_type": "code",
   "execution_count": null,
   "metadata": {},
   "outputs": [
    {
     "ename": "TypeError",
     "evalue": "object of type 'NoneType' has no len()",
     "output_type": "error",
     "traceback": [
      "\u001b[1;31m---------------------------------------------------------------------------\u001b[0m",
      "\u001b[1;31mTypeError\u001b[0m                                 Traceback (most recent call last)",
      "Cell \u001b[1;32mIn[213], line 1\u001b[0m\n\u001b[1;32m----> 1\u001b[0m verifiable_decryption(verifiable_decryption(garbled_circuit\u001b[38;5;241m.\u001b[39mgarbled_gates[\u001b[38;5;241m0\u001b[39m]\u001b[38;5;241m.\u001b[39mgarbled_table[\u001b[38;5;241m0\u001b[39m], garbled_circuit\u001b[38;5;241m.\u001b[39mwire_keys[\u001b[38;5;241m1\u001b[39m][\u001b[38;5;241m0\u001b[39m]), garbled_circuit\u001b[38;5;241m.\u001b[39mwire_keys[\u001b[38;5;241m1\u001b[39m][\u001b[38;5;241m0\u001b[39m])\n",
      "Cell \u001b[1;32mIn[196], line 49\u001b[0m, in \u001b[0;36mverifiable_decryption\u001b[1;34m(c, key)\u001b[0m\n\u001b[0;32m     44\u001b[0m \u001b[38;5;250m\u001b[39m\u001b[38;5;124;03m\"\"\"\u001b[39;00m\n\u001b[0;32m     45\u001b[0m \u001b[38;5;124;03mPerform verifiable decryption\u001b[39;00m\n\u001b[0;32m     46\u001b[0m \u001b[38;5;124;03m\"\"\"\u001b[39;00m\n\u001b[0;32m     48\u001b[0m \u001b[38;5;66;03m# unpack inputs\u001b[39;00m\n\u001b[1;32m---> 49\u001b[0m r \u001b[38;5;241m=\u001b[39m c[:\u001b[38;5;28mlen\u001b[39m(c) \u001b[38;5;241m/\u001b[39m\u001b[38;5;241m/\u001b[39m \u001b[38;5;241m3\u001b[39m]\n\u001b[0;32m     50\u001b[0m s \u001b[38;5;241m=\u001b[39m c[\u001b[38;5;28mlen\u001b[39m(c) \u001b[38;5;241m/\u001b[39m\u001b[38;5;241m/\u001b[39m \u001b[38;5;241m3\u001b[39m:]\n\u001b[0;32m     52\u001b[0m \u001b[38;5;66;03m# recompute prf\u001b[39;00m\n",
      "\u001b[1;31mTypeError\u001b[0m: object of type 'NoneType' has no len()"
     ]
    }
   ],
   "source": []
  },
  {
   "cell_type": "code",
   "execution_count": 209,
   "metadata": {},
   "outputs": [
    {
     "data": {
      "text/plain": [
       "b'IZ\\x9bb?!\\xe2\\xbc\\x99\\xfd\\xe0\\x1c\\x80\\\\\\x01\\xfb'"
      ]
     },
     "execution_count": 209,
     "metadata": {},
     "output_type": "execute_result"
    }
   ],
   "source": [
    "garbled_circuit.wire_keys[3][0]"
   ]
  },
  {
   "cell_type": "code",
   "execution_count": 211,
   "metadata": {},
   "outputs": [
    {
     "data": {
      "text/plain": [
       "b'IZ\\x9bb?!\\xe2\\xbc\\x99\\xfd\\xe0\\x1c\\x80\\\\\\x01\\xfb'"
      ]
     },
     "execution_count": 211,
     "metadata": {},
     "output_type": "execute_result"
    }
   ],
   "source": [
    "garbled_circuit.wire_keys[3][0]"
   ]
  }
 ],
 "metadata": {
  "kernelspec": {
   "display_name": "base",
   "language": "python",
   "name": "python3"
  },
  "language_info": {
   "codemirror_mode": {
    "name": "ipython",
    "version": 3
   },
   "file_extension": ".py",
   "mimetype": "text/x-python",
   "name": "python",
   "nbconvert_exporter": "python",
   "pygments_lexer": "ipython3",
   "version": "3.12.7"
  }
 },
 "nbformat": 4,
 "nbformat_minor": 2
}
