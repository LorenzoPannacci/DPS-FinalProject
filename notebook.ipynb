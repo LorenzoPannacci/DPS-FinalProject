{
 "cells": [
  {
   "cell_type": "markdown",
   "metadata": {},
   "source": [
    "# Dependencies"
   ]
  },
  {
   "cell_type": "code",
   "execution_count": 1,
   "metadata": {},
   "outputs": [
    {
     "name": "stdout",
     "output_type": "stream",
     "text": [
      "Defaulting to user installation because normal site-packages is not writeable\n",
      "Requirement already satisfied: pyzmq in c:\\programdata\\anaconda3\\lib\\site-packages (25.1.2)\n",
      "Requirement already satisfied: cryptography in c:\\programdata\\anaconda3\\lib\\site-packages (43.0.0)\n",
      "Requirement already satisfied: sympy in c:\\programdata\\anaconda3\\lib\\site-packages (1.13.2)\n",
      "Requirement already satisfied: cffi>=1.12 in c:\\programdata\\anaconda3\\lib\\site-packages (from cryptography) (1.17.1)\n",
      "Requirement already satisfied: mpmath<1.4,>=1.1.0 in c:\\programdata\\anaconda3\\lib\\site-packages (from sympy) (1.3.0)\n",
      "Requirement already satisfied: pycparser in c:\\programdata\\anaconda3\\lib\\site-packages (from cffi>=1.12->cryptography) (2.21)\n"
     ]
    }
   ],
   "source": [
    "!pip3 install pyzmq cryptography sympy pycryptodome"
   ]
  },
  {
   "cell_type": "markdown",
   "metadata": {},
   "source": [
    "# Initialization"
   ]
  },
  {
   "cell_type": "code",
   "execution_count": 5,
   "metadata": {},
   "outputs": [],
   "source": [
    "import sympy\n",
    "import random\n",
    "import zmq\n",
    "import threading\n",
    "from Crypto.Cipher import AES\n",
    "from Crypto.Random import get_random_bytes\n",
    "import base64"
   ]
  },
  {
   "cell_type": "code",
   "execution_count": 6,
   "metadata": {},
   "outputs": [],
   "source": [
    "# math\n",
    "BITS_OF_PRIME_GROUP = 512\n",
    "\n",
    "# socket\n",
    "LOCAL_PORT = 4080\n",
    "SERVER_HOST = \"localhost\"\n",
    "SERVER_PORT = 4080"
   ]
  },
  {
   "cell_type": "markdown",
   "metadata": {},
   "source": [
    "# Basics"
   ]
  },
  {
   "cell_type": "markdown",
   "metadata": {},
   "source": [
    "## Primes and Modular arithmetics"
   ]
  },
  {
   "cell_type": "code",
   "execution_count": 7,
   "metadata": {},
   "outputs": [],
   "source": [
    "def get_random_prime():\n",
    "    \"\"\"\n",
    "    Generate a random prime number of the specified number of bits.\n",
    "    \"\"\"\n",
    "\n",
    "    lower_bound = 2**(BITS_OF_PRIME_GROUP - 1)\n",
    "    upper_bound = 2**BITS_OF_PRIME_GROUP - 1\n",
    "\n",
    "    prime = sympy.randprime(lower_bound, upper_bound)\n",
    "    \n",
    "    return prime\n",
    "\n",
    "def find_generator(prime):\n",
    "    \"\"\"\n",
    "    For every prime divisor q of p -1 check if g^{(p-1)/q} ≡ 1 mod p. If that happens, discard g\n",
    "    If it survives till the last prime divisor of p - 1 is a generator.\n",
    "    \"\"\"\n",
    "\n",
    "    while 1:\n",
    "        candidate = pow(random.randint(2, prime), 2, prime)\n",
    "\n",
    "        # avoid g=2 because of Bleichenbacher's attack described # in \"Generating\n",
    "        # ElGamal signatures without knowning the secret key\", 1996\n",
    "        if candidate in (1, 2):\n",
    "            continue\n",
    "\n",
    "        # Discard g if it divides p-1 because of the attack described\n",
    "        # in Note 11.67 (iii) in HAC\n",
    "        if (prime - 1) % candidate == 0:\n",
    "            continue\n",
    "\n",
    "        # g^{-1} must not divide p-1 because of Khadir's attack described in\n",
    "        # \"Conditions of the generator for forging ElGamal signature\", 2011\n",
    "        ginv = inverse(candidate, prime)\n",
    "        if (prime - 1) % ginv == 0:\n",
    "            continue\n",
    "\n",
    "        # found\n",
    "        break\n",
    "\n",
    "    return candidate\n",
    "\n",
    "def inverse(num, prime):\n",
    "    \"\"\"\n",
    "    Multiplicative inverse.\n",
    "    \"\"\"\n",
    "\n",
    "    return pow(num, prime - 2, prime)"
   ]
  },
  {
   "cell_type": "markdown",
   "metadata": {},
   "source": [
    "## Secret Key Encryption"
   ]
  },
  {
   "cell_type": "markdown",
   "metadata": {},
   "source": [
    "The cryptography library contains Fernet, an implementation of symmetric (secret key) authenticated cryptography."
   ]
  },
  {
   "cell_type": "code",
   "execution_count": 32,
   "metadata": {},
   "outputs": [],
   "source": [
    "###############################################\n",
    "# IMPLEMENTATION OF AES KEY ENCRYPTION SCHEME #\n",
    "###############################################\n",
    "\n",
    "def aes_generate_key():\n",
    "    \"\"\"\n",
    "    Generate a 256-bit (32-byte) secret key for AES encryption.\n",
    "    https://github.com/Legrandin/pycryptodome/blob/master/lib/Crypto/Cipher/AES.py\n",
    "    https://pycryptodome.readthedocs.io/en/latest/src/cipher/aes.html\n",
    "    \"\"\"\n",
    "\n",
    "    # AES-256 requires a 32-byte key\n",
    "    key = get_random_bytes(32)\n",
    "\n",
    "    return key\n",
    "\n",
    "def pad(msg):\n",
    "    \"\"\"\n",
    "    Pad message to be a multiple of AES block size (16 bytes).\n",
    "    \"\"\"\n",
    "\n",
    "    # get how much padding\n",
    "    padding_length = AES.block_size - len(msg) % AES.block_size\n",
    "\n",
    "    # apply padding\n",
    "    return msg + bytes([padding_length] * padding_length)\n",
    "\n",
    "def unpad(msg):\n",
    "    \"\"\"\n",
    "    Remove padding from decrypted message.\n",
    "    \"\"\"\n",
    "\n",
    "    return msg[:-msg[-1]]\n",
    "\n",
    "def aes_encrypt(msg, key):\n",
    "    \"\"\"\n",
    "    Encrypts a message with a key using AES-256 in CTR mode.\n",
    "    \"\"\"\n",
    "\n",
    "    # pad message\n",
    "    msg = pad(msg)\n",
    "\n",
    "    # init AES\n",
    "    cipher = AES.new(key, AES.MODE_CTR)\n",
    "\n",
    "    # encrypt message\n",
    "    encrypted_msg = cipher.encrypt(msg)\n",
    "\n",
    "    # return concatenation with nonce\n",
    "    return cipher.nonce + encrypted_msg\n",
    "    \n",
    "\n",
    "def aes_decrypt(token, key):\n",
    "    \"\"\"\n",
    "    Decrypts a message with a key using AES-256 in CBC mode.\n",
    "    \"\"\"\n",
    "\n",
    "    # extract nonce and encrypted message\n",
    "    nonce = token[:AES.block_size // 2]\n",
    "    encrypted_msg = token[AES.block_size // 2:]\n",
    "\n",
    "    # init AES\n",
    "    cipher = AES.new(key, AES.MODE_CTR, nonce=nonce)\n",
    "\n",
    "    # decrypt\n",
    "    decrypted_msg = cipher.decrypt(encrypted_msg)\n",
    "\n",
    "    # unpad\n",
    "    decrypted_msg = unpad(decrypted_msg)\n",
    "    return decrypted_msg"
   ]
  },
  {
   "cell_type": "code",
   "execution_count": 34,
   "metadata": {},
   "outputs": [
    {
     "name": "stdout",
     "output_type": "stream",
     "text": [
      "Original message:  Hello, World!\n",
      "Encrypted message:  b'\\xf1\\x9c\\xd7AI\\xa1\\x8b\\xf0\\x14?\\x0c\\xcc)k1m\\xd15\\xba\\xe9\\x05X\\x11\\xc6'\n",
      "Decrypted message:  Hello, World!\n"
     ]
    }
   ],
   "source": [
    "#####################################\n",
    "# TEST OF AES KEY ENCRYPTION SCHEME #\n",
    "#####################################\n",
    "\n",
    "# test message\n",
    "input_msg = b\"Hello, World!\"\n",
    "\n",
    "# generate random key\n",
    "key = aes_generate_key()\n",
    "\n",
    "# encrypt the test message\n",
    "token = aes_encrypt(input_msg, key)\n",
    "\n",
    "# decrypt the test message\n",
    "output_msg = aes_decrypt(token, key)\n",
    "\n",
    "# print results\n",
    "print(\"Original message: \", input_msg.decode(\"utf-8\"))\n",
    "print(\"Encrypted message: \", token)\n",
    "print(\"Decrypted message: \", output_msg.decode(\"utf-8\"))"
   ]
  },
  {
   "cell_type": "markdown",
   "metadata": {},
   "source": [
    "## Public Key Encryption"
   ]
  },
  {
   "cell_type": "markdown",
   "metadata": {},
   "source": [
    "Implementation of ElGamal encryption scheme."
   ]
  },
  {
   "cell_type": "code",
   "execution_count": 6,
   "metadata": {},
   "outputs": [],
   "source": [
    "###############################################\n",
    "# IMPLEMENTATION OF ELGAMAL ENCRYPTION SCHEME #\n",
    "###############################################\n",
    "\n",
    "def elgamal_generate_keys():\n",
    "    \"\"\"\n",
    "    Generate public and private keys for the ElGamal encryption scheme.\n",
    "    The naming scheme follows what has been used in the course slides.\n",
    "    \"\"\"\n",
    "\n",
    "    # generate random prime that defines the group\n",
    "    p = get_random_prime()\n",
    "\n",
    "    # find a generator for the group\n",
    "    g = find_generator(p)\n",
    "\n",
    "    # generate a private key as a random number\n",
    "    x = random.randint(1, p - 1)\n",
    "\n",
    "    # calculate the public key as g^x mod p\n",
    "    h = pow(g, x, p)\n",
    "\n",
    "    return (g, p, h), x\n",
    "\n",
    "def elgamal_encrypt(msg, public_key):\n",
    "    \"\"\"\n",
    "    Encrypt a message with the ElGamal encryption scheme.\n",
    "    \"\"\"\n",
    "\n",
    "    # from bytes to integer\n",
    "    msg = int.from_bytes(msg, byteorder=\"big\")\n",
    "\n",
    "    # unpack public key\n",
    "    g, p, h = public_key\n",
    "\n",
    "    # generate a random number\n",
    "    r = random.randint(1, p - 1)\n",
    "\n",
    "    # calculate the two powers of the ciphertext\n",
    "    gr = pow(g, r, p)\n",
    "    hr = pow(h, r, p)\n",
    "\n",
    "    # calculate the ciphertext\n",
    "    c = (gr, hr * msg % p)\n",
    "\n",
    "    return c\n",
    "\n",
    "def elgamal_decrypt(c, private_key, public_key):\n",
    "    \"\"\"\n",
    "    Decrypt a message with the ElGamal encryption scheme.\n",
    "    \"\"\"\n",
    "\n",
    "    # unpack private key\n",
    "    x = private_key\n",
    "\n",
    "    # unpack public key\n",
    "    g, p, h = public_key\n",
    "\n",
    "    # unpack ciphertext\n",
    "    c1, c2 = c\n",
    "\n",
    "    # decrypt message\n",
    "    m = (c2 * pow(c1, p - 1 - x, p)) % p\n",
    "\n",
    "    # from integer to bytes\n",
    "    m = m.to_bytes((m.bit_length() + 7) // 8, byteorder=\"big\")\n",
    "\n",
    "    return m"
   ]
  },
  {
   "cell_type": "code",
   "execution_count": 7,
   "metadata": {},
   "outputs": [
    {
     "name": "stdout",
     "output_type": "stream",
     "text": [
      "Original message: Hello!\n",
      "Encrypted message: (2231910908049189478948787713272429854670911340284814528581481336921463344875474317541623818896185702621584998700494469257338103838518197423879720937951687, 1251985525154637205235251735539389747284461852616611515780353742731893861858365380747296890948020504698694555757902524278052902188982594730809206169187411)\n",
      "Decrypted message: Hello!\n"
     ]
    }
   ],
   "source": [
    "#####################################\n",
    "# TEST OF ELGAMAL ENCRYPTION SCHEME #\n",
    "#####################################\n",
    "\n",
    "# test message\n",
    "input_msg = b\"Hello!\"\n",
    "\n",
    "# generate keys\n",
    "public_key, private_key = elgamal_generate_keys()\n",
    "\n",
    "# encrypt message\n",
    "ciphertext = elgamal_encrypt(input_msg, public_key)\n",
    "\n",
    "# decrypt message\n",
    "output_msg = elgamal_decrypt(ciphertext, private_key, public_key)\n",
    "\n",
    "# print results\n",
    "print(\"Original message:\", input_msg.decode())\n",
    "print(\"Encrypted message:\", ciphertext)\n",
    "print(\"Decrypted message:\", output_msg.decode())"
   ]
  },
  {
   "cell_type": "markdown",
   "metadata": {},
   "source": [
    "## Socket Communication"
   ]
  },
  {
   "cell_type": "code",
   "execution_count": 8,
   "metadata": {},
   "outputs": [],
   "source": [
    "##########################################\n",
    "# IMPLEMENTATION OF SOCKET COMMUNICATION #\n",
    "##########################################\n",
    "\n",
    "class Socket:\n",
    "    def __init__(self, socket_type, address):\n",
    "        \"\"\"\n",
    "        Initialize a ZeroMQ Socket.\n",
    "        socket_type can be zmq.REQ, zmq.REP, zmq.PUB, zmq.SUB\n",
    "        \"\"\"\n",
    "\n",
    "        # init socket settings\n",
    "        self.context = zmq.Context.instance()\n",
    "        self.socket = self.context.socket(socket_type)\n",
    "        self.address = address\n",
    "\n",
    "        if socket_type == zmq.REP:\n",
    "            self.bind()\n",
    "        elif socket_type == zmq.REQ:\n",
    "            self.connect()\n",
    "    \n",
    "    def bind(self):\n",
    "        \"\"\"\n",
    "        Bind the socket to given address.\n",
    "        \"\"\"\n",
    "\n",
    "        self.socket.bind(self.address)\n",
    "    \n",
    "    def connect(self):\n",
    "        \"\"\"\n",
    "        Connect the socket to a given address.\n",
    "        \"\"\"\n",
    "\n",
    "        self.socket.connect(self.address)\n",
    "    \n",
    "    def send(self, msg):\n",
    "        \"\"\"\n",
    "        Send a message through the socket.\n",
    "        \"\"\"\n",
    "\n",
    "        self.socket.send_pyobj(msg)\n",
    "    \n",
    "    def receive(self):\n",
    "        \"\"\"\n",
    "        Receive a message from the socket.\n",
    "        \"\"\"\n",
    "\n",
    "        return self.socket.recv_pyobj()\n",
    "    \n",
    "    def close(self):\n",
    "        \"\"\"\n",
    "        Close the socket.\n",
    "        \"\"\"\n",
    "\n",
    "        self.socket.close()\n",
    "    \n",
    "    def __del__(self):\n",
    "        \"\"\"\n",
    "        Destructor to close the socket.\n",
    "        \"\"\"\n",
    "\n",
    "        self.close()"
   ]
  },
  {
   "cell_type": "code",
   "execution_count": 9,
   "metadata": {},
   "outputs": [
    {
     "name": "stdout",
     "output_type": "stream",
     "text": [
      "Client received: Hello, Server!\n",
      "Server received: Hello, Client!\n"
     ]
    }
   ],
   "source": [
    "################################\n",
    "# TEST OF SOCKET COMMUNICATION #\n",
    "################################\n",
    "\n",
    "# create a server and a client sockets\n",
    "server = Socket(socket_type=zmq.REP, address=f\"tcp://{SERVER_HOST}:{SERVER_PORT}\")\n",
    "client = Socket(socket_type=zmq.REQ, address=f\"tcp://{SERVER_HOST}:{SERVER_PORT}\")\n",
    "\n",
    "# send a message from client to server\n",
    "client.send(\"Hello, Server!\")\n",
    "print(\"Client received:\", server.receive())\n",
    "\n",
    "# send a message from server to client\n",
    "server.send(\"Hello, Client!\")\n",
    "print(\"Server received:\", client.receive())\n",
    "\n",
    "# close the sockets\n",
    "server.close()\n",
    "client.close()"
   ]
  },
  {
   "cell_type": "markdown",
   "metadata": {},
   "source": [
    "# Oblivious Transfer"
   ]
  },
  {
   "cell_type": "markdown",
   "metadata": {},
   "source": [
    "## Passive Security"
   ]
  },
  {
   "cell_type": "markdown",
   "metadata": {},
   "source": [
    "Implementation of a 1-out-of-2 Oblivious Transfer protocol with passive security."
   ]
  },
  {
   "cell_type": "code",
   "execution_count": 10,
   "metadata": {},
   "outputs": [],
   "source": [
    "class ObliviousTransfer_PS:\n",
    "    \"\"\"\n",
    "    Implement the oblivious transfer protocol with passive security.\n",
    "\n",
    "    In passive security, Bob sends both public keys to Alice, the one he wants to receive\n",
    "    normally and the other obliviously. Alice sends the ciphertexts of both messages to Bob,\n",
    "    encrypted with the corresponding public key. Bob decrypts the chosen ciphertext,\n",
    "    receiving the message he wants.\n",
    "    \"\"\"\n",
    "\n",
    "    def __init__(self, socket):\n",
    "        # to send and receive messages\n",
    "        self.socket = socket\n",
    "\n",
    "    def receiver_side(self, choice):\n",
    "        \"\"\"\n",
    "        Implement Bob's side of the oblivious transfer protocol with passive security.\n",
    "        \"\"\"\n",
    "\n",
    "        # Bob wants message 0\n",
    "        if choice == 0:\n",
    "            pk0, sk0 = elgamal_generate_keys()\n",
    "            pk1, _ = elgamal_generate_keys() # oblivious of secret key\n",
    "            \n",
    "        # Bob wants message 1\n",
    "        else:\n",
    "            pk0, _ = elgamal_generate_keys() # oblivious of secret key\n",
    "            pk1, sk1 = elgamal_generate_keys()\n",
    "\n",
    "        # send public keys to Alice\n",
    "        self.socket.send((pk0, pk1))\n",
    "\n",
    "        # receive the ciphertexts\n",
    "        c0, c1 = self.socket.receive()\n",
    "\n",
    "        # decrypt the chosen ciphertext\n",
    "        if choice == 0:\n",
    "            m = elgamal_decrypt(c0, sk0, pk0)\n",
    "        else:\n",
    "            m = elgamal_decrypt(c1, sk1, pk1)\n",
    "\n",
    "        # close the socket\n",
    "        self.socket.close()\n",
    "\n",
    "        return m\n",
    "    \n",
    "    def sender_side(self, msg0, msg1):\n",
    "        \"\"\"\n",
    "        Implement Alice's side of the oblivious transfer protocol with passive security.\n",
    "        \"\"\"\n",
    "\n",
    "        # get the public keys from Bob\n",
    "        h0, h1 = self.socket.receive()\n",
    "\n",
    "        # encrypt the messages\n",
    "        c0 = elgamal_encrypt(msg0, h0)\n",
    "        c1 = elgamal_encrypt(msg1, h1)\n",
    "\n",
    "        # send the ciphertexts to Bob\n",
    "        self.socket.send((c0, c1))\n",
    "\n",
    "        # close the socket\n",
    "        self.socket.close()"
   ]
  },
  {
   "cell_type": "code",
   "execution_count": 11,
   "metadata": {},
   "outputs": [
    {
     "name": "stdout",
     "output_type": "stream",
     "text": [
      "Bob received: World\n"
     ]
    }
   ],
   "source": [
    "# example of Oblivious Transfer with passive security\n",
    "\n",
    "socket_bob = Socket(socket_type=zmq.REQ, address=f\"tcp://{SERVER_HOST}:{SERVER_PORT}\")\n",
    "socket_alice = Socket(socket_type=zmq.REP, address=f\"tcp://{SERVER_HOST}:{SERVER_PORT}\")\n",
    "\n",
    "def run_bob(socket_bob):\n",
    "    # initialize Bob's side\n",
    "    ot_bob = ObliviousTransfer_PS(socket_bob)\n",
    "\n",
    "    # Bob wants message 1\n",
    "    choice = 1\n",
    "\n",
    "    # run Bob's side of the protocol\n",
    "    received_message = ot_bob.receiver_side(choice)\n",
    "\n",
    "    # show the received message\n",
    "    print(\"Bob received:\", received_message.decode(\"utf-8\"))\n",
    "\n",
    "    # close the socket\n",
    "    socket_bob.close()\n",
    "\n",
    "def run_alice(socket_alice):\n",
    "    # initialize Alice's side\n",
    "    ot_alice = ObliviousTransfer_PS(socket_alice)\n",
    "\n",
    "    # get Alice's messages\n",
    "    msg0 = b\"Hello\"\n",
    "    msg1 = b\"World\"\n",
    "\n",
    "    # run Alice's side of the protocol\n",
    "    ot_alice.sender_side(msg0, msg1)\n",
    "\n",
    "    # close the socket\n",
    "    socket_alice.close()\n",
    "\n",
    "# run Alice and Bob in separate threads\n",
    "bob_thread = threading.Thread(target=run_bob, args=(socket_bob,))\n",
    "alice_thread = threading.Thread(target=run_alice, args=(socket_alice,))\n",
    "\n",
    "bob_thread.start()\n",
    "alice_thread.start()\n",
    "\n",
    "bob_thread.join()\n",
    "alice_thread.join()"
   ]
  },
  {
   "cell_type": "markdown",
   "metadata": {},
   "source": [
    "## Active Security"
   ]
  },
  {
   "cell_type": "markdown",
   "metadata": {},
   "source": [
    "Implementation of a 1-out-of-2 Oblivious Transfer protocol with active security."
   ]
  },
  {
   "cell_type": "code",
   "execution_count": 12,
   "metadata": {},
   "outputs": [],
   "source": [
    "class ObliviousTransfer_AS:\n",
    "    \"\"\"\n",
    "    Implement the oblivious transfer protocol with active security.\n",
    "\n",
    "    In active security, Alice sends two public keys to Bob, Bob will use the one linked to the message\n",
    "    he wants to recieve to encrypt his key. Alice will decrypt it using both keys, obtaining two different\n",
    "    keys. Alice will then encrypt both messages with the two keys and send them to Bob. Bob will be able\n",
    "    to decrypt only the message linked to the key he chose.\n",
    "    \"\"\"\n",
    "\n",
    "    def __init__(self, socket):\n",
    "        # to send and receive messages\n",
    "        self.socket = socket\n",
    "\n",
    "    def sender_side(self, msg0, msg1):\n",
    "        \"\"\"\n",
    "        Implement Alice's side of the oblivious transfer protocol with active security.\n",
    "        \"\"\"\n",
    "\n",
    "        # generate two key pairs\n",
    "        pk0, sk0 = elgamal_generate_keys()\n",
    "        pk1, sk1 = elgamal_generate_keys()\n",
    "\n",
    "        # send public keys to Bob\n",
    "        self.socket.send((pk0, pk1))\n",
    "\n",
    "        # recieve encrypted key from Bob\n",
    "        c = self.socket.receive()\n",
    "\n",
    "        # decrypt the key with both private keys\n",
    "        k0 = Fernet(elgamal_decrypt(c, sk0, pk0))\n",
    "        k1 = Fernet(elgamal_decrypt(c, sk1, pk1))\n",
    "\n",
    "        # encrypt the messages with the keys\n",
    "        c0 = secret_encrypt(msg0, k0)\n",
    "        c1 = secret_encrypt(msg1, k1)\n",
    "\n",
    "        # send the ciphertexts to Bob\n",
    "        self.socket.send((c0, c1))\n",
    "\n",
    "        # close the socket\n",
    "        self.socket.close()\n",
    "\n",
    "    def receiver_side(self, choice):\n",
    "        \"\"\"\n",
    "        Implement Bob's side of the oblivious transfer protocol with active security.\n",
    "        \"\"\"\n",
    "\n",
    "        # generate secret key\n",
    "        k = secret_generate_key()\n",
    "\n",
    "        # receive the public keys\n",
    "        pk0, pk1 = self.socket.receive()\n",
    "\n",
    "        # encrypt with the chosen public key\n",
    "        if choice == 0:\n",
    "            c = elgamal_encrypt(k, pk0)\n",
    "        \n",
    "        else:\n",
    "            c = elgamal_encrypt(k, pk1)\n",
    "\n",
    "        # send the encrypted key to Alice\n",
    "        self.socket.send(c)\n",
    "\n",
    "        # receive the ciphertexts\n",
    "        c0, c1 = self.socket.receive()\n",
    "\n",
    "        # decrypt the chosen ciphertext\n",
    "        if choice == 0:\n",
    "            m = secret_decrypt(c0, k)\n",
    "\n",
    "        else:\n",
    "            m = secret_decrypt(c1, k)\n",
    "\n",
    "        # close the socket\n",
    "        self.socket.close()\n",
    "\n",
    "        return m"
   ]
  },
  {
   "cell_type": "code",
   "execution_count": 23,
   "metadata": {},
   "outputs": [
    {
     "ename": "ValueError",
     "evalue": "Fernet key must be 32 url-safe base64-encoded bytes.",
     "output_type": "error",
     "traceback": [
      "\u001b[1;31m---------------------------------------------------------------------------\u001b[0m",
      "\u001b[1;31mValueError\u001b[0m                                Traceback (most recent call last)",
      "Cell \u001b[1;32mIn[23], line 9\u001b[0m\n\u001b[0;32m      6\u001b[0m k1 \u001b[38;5;241m=\u001b[39m elgamal_decrypt(c, sk1, pk1)\n\u001b[0;32m      8\u001b[0m secret_encrypt(\u001b[38;5;124mb\u001b[39m\u001b[38;5;124m\"\u001b[39m\u001b[38;5;124ma\u001b[39m\u001b[38;5;124m\"\u001b[39m, k0)\n\u001b[1;32m----> 9\u001b[0m secret_encrypt(\u001b[38;5;124mb\u001b[39m\u001b[38;5;124m\"\u001b[39m\u001b[38;5;124mb\u001b[39m\u001b[38;5;124m\"\u001b[39m, k1)\n",
      "Cell \u001b[1;32mIn[4], line 21\u001b[0m, in \u001b[0;36msecret_encrypt\u001b[1;34m(msg, key)\u001b[0m\n\u001b[0;32m     15\u001b[0m \u001b[38;5;250m\u001b[39m\u001b[38;5;124;03m\"\"\"\u001b[39;00m\n\u001b[0;32m     16\u001b[0m \u001b[38;5;124;03mEncrypts a message with a key. Uses the Fernet symmetric encryption algorithm.\u001b[39;00m\n\u001b[0;32m     17\u001b[0m \u001b[38;5;124;03mhttps://cryptography.io/en/latest/fernet/\u001b[39;00m\n\u001b[0;32m     18\u001b[0m \u001b[38;5;124;03m\"\"\"\u001b[39;00m\n\u001b[0;32m     20\u001b[0m \u001b[38;5;66;03m# initialize\u001b[39;00m\n\u001b[1;32m---> 21\u001b[0m f \u001b[38;5;241m=\u001b[39m Fernet(key)\n\u001b[0;32m     23\u001b[0m \u001b[38;5;66;03m# encrypt\u001b[39;00m\n\u001b[0;32m     24\u001b[0m token \u001b[38;5;241m=\u001b[39m f\u001b[38;5;241m.\u001b[39mencrypt(msg)\n",
      "File \u001b[1;32mc:\\ProgramData\\anaconda3\\Lib\\site-packages\\cryptography\\fernet.py:40\u001b[0m, in \u001b[0;36mFernet.__init__\u001b[1;34m(self, key, backend)\u001b[0m\n\u001b[0;32m     36\u001b[0m     \u001b[38;5;28;01mraise\u001b[39;00m \u001b[38;5;167;01mValueError\u001b[39;00m(\n\u001b[0;32m     37\u001b[0m         \u001b[38;5;124m\"\u001b[39m\u001b[38;5;124mFernet key must be 32 url-safe base64-encoded bytes.\u001b[39m\u001b[38;5;124m\"\u001b[39m\n\u001b[0;32m     38\u001b[0m     ) \u001b[38;5;28;01mfrom\u001b[39;00m \u001b[38;5;21;01mexc\u001b[39;00m\n\u001b[0;32m     39\u001b[0m \u001b[38;5;28;01mif\u001b[39;00m \u001b[38;5;28mlen\u001b[39m(key) \u001b[38;5;241m!=\u001b[39m \u001b[38;5;241m32\u001b[39m:\n\u001b[1;32m---> 40\u001b[0m     \u001b[38;5;28;01mraise\u001b[39;00m \u001b[38;5;167;01mValueError\u001b[39;00m(\n\u001b[0;32m     41\u001b[0m         \u001b[38;5;124m\"\u001b[39m\u001b[38;5;124mFernet key must be 32 url-safe base64-encoded bytes.\u001b[39m\u001b[38;5;124m\"\u001b[39m\n\u001b[0;32m     42\u001b[0m     )\n\u001b[0;32m     44\u001b[0m \u001b[38;5;28mself\u001b[39m\u001b[38;5;241m.\u001b[39m_signing_key \u001b[38;5;241m=\u001b[39m key[:\u001b[38;5;241m16\u001b[39m]\n\u001b[0;32m     45\u001b[0m \u001b[38;5;28mself\u001b[39m\u001b[38;5;241m.\u001b[39m_encryption_key \u001b[38;5;241m=\u001b[39m key[\u001b[38;5;241m16\u001b[39m:]\n",
      "\u001b[1;31mValueError\u001b[0m: Fernet key must be 32 url-safe base64-encoded bytes."
     ]
    }
   ],
   "source": [
    "k = secret_generate_key()\n",
    "pk0, sk0 = elgamal_generate_keys()\n",
    "pk1, sk1 = elgamal_generate_keys()\n",
    "c = elgamal_encrypt(k, pk0)\n",
    "k0 = elgamal_decrypt(c, sk0, pk0)\n",
    "k1 = elgamal_decrypt(c, sk1, pk1)\n",
    "\n",
    "secret_encrypt(b\"a\", k0)\n",
    "secret_encrypt(b\"b\", k1)"
   ]
  },
  {
   "cell_type": "code",
   "execution_count": 14,
   "metadata": {},
   "outputs": [
    {
     "data": {
      "text/plain": [
       "True"
      ]
     },
     "execution_count": 14,
     "metadata": {},
     "output_type": "execute_result"
    }
   ],
   "source": [
    "k == k0"
   ]
  },
  {
   "cell_type": "code",
   "execution_count": 18,
   "metadata": {},
   "outputs": [
    {
     "data": {
      "text/plain": [
       "b'\\xcd|G\\xf6t\\x04\\xc8hw\\xec\\xce8v+\\x10\\x89M,\\x167\\x8bG;\\x15\\x12\\x05h\\ne\\xc3\\x15r'"
      ]
     },
     "execution_count": 18,
     "metadata": {},
     "output_type": "execute_result"
    }
   ],
   "source": [
    "import base64\n",
    "import binascii\n",
    "\n",
    "binascii.a2b_base64(k0)"
   ]
  },
  {
   "cell_type": "code",
   "execution_count": null,
   "metadata": {},
   "outputs": [
    {
     "name": "stderr",
     "output_type": "stream",
     "text": [
      "Exception in thread Thread-8 (run_alice):\n",
      "Traceback (most recent call last):\n",
      "  File \"c:\\ProgramData\\anaconda3\\Lib\\site-packages\\cryptography\\fernet.py\", line 34, in __init__\n",
      "    key = base64.urlsafe_b64decode(key)\n",
      "          ^^^^^^^^^^^^^^^^^^^^^^^^^^^^^\n",
      "  File \"c:\\ProgramData\\anaconda3\\Lib\\base64.py\", line 134, in urlsafe_b64decode\n",
      "    return b64decode(s)\n",
      "           ^^^^^^^^^^^^\n",
      "  File \"c:\\ProgramData\\anaconda3\\Lib\\base64.py\", line 88, in b64decode\n",
      "    return binascii.a2b_base64(s, strict_mode=validate)\n",
      "           ^^^^^^^^^^^^^^^^^^^^^^^^^^^^^^^^^^^^^^^^^^^^\n",
      "binascii.Error: Incorrect padding\n",
      "\n",
      "The above exception was the direct cause of the following exception:\n",
      "\n",
      "Traceback (most recent call last):\n",
      "  File \"c:\\ProgramData\\anaconda3\\Lib\\threading.py\", line 1075, in _bootstrap_inner\n",
      "    self.run()\n",
      "  File \"c:\\ProgramData\\anaconda3\\Lib\\threading.py\", line 1012, in run\n",
      "    self._target(*self._args, **self._kwargs)\n",
      "  File \"C:\\Users\\Utente\\AppData\\Local\\Temp\\ipykernel_17476\\342073072.py\", line 31, in run_alice\n",
      "  File \"C:\\Users\\Utente\\AppData\\Local\\Temp\\ipykernel_17476\\3247062917.py\", line 31, in sender_side\n",
      "  File \"c:\\ProgramData\\anaconda3\\Lib\\site-packages\\cryptography\\fernet.py\", line 36, in __init__\n",
      "    raise ValueError(\n",
      "ValueError: Fernet key must be 32 url-safe base64-encoded bytes.\n"
     ]
    }
   ],
   "source": [
    "# example of Oblivious Transfer with active security\n",
    "\n",
    "socket_bob = Socket(socket_type=zmq.REP, address=f\"tcp://{SERVER_HOST}:{SERVER_PORT}\")\n",
    "socket_alice = Socket(socket_type=zmq.REQ, address=f\"tcp://{SERVER_HOST}:{SERVER_PORT}\")\n",
    "\n",
    "def run_bob(socket_bob):\n",
    "    # initialize Bob's side\n",
    "    ot_bob = ObliviousTransfer_AS(socket_bob)\n",
    "\n",
    "    # Bob wants message 1\n",
    "    choice = 1\n",
    "\n",
    "    # run Bob's side of the protocol\n",
    "    received_message = ot_bob.receiver_side(choice)\n",
    "\n",
    "    # show the received message\n",
    "    print(\"Bob received:\", received_message.decode(\"utf-8\"))\n",
    "\n",
    "    # close the socket\n",
    "    socket_bob.close()\n",
    "\n",
    "def run_alice(socket_alice):\n",
    "    # initialize Alice's side\n",
    "    ot_alice = ObliviousTransfer_AS(socket_alice)\n",
    "\n",
    "    # get Alice's messages\n",
    "    msg0 = b\"Hello\"\n",
    "    msg1 = b\"World\"\n",
    "\n",
    "    # run Alice's side of the protocol\n",
    "    ot_alice.sender_side(msg0, msg1)\n",
    "\n",
    "    # close the socket\n",
    "    socket_alice.close()\n",
    "\n",
    "# run Alice and Bob in separate threads\n",
    "bob_thread = threading.Thread(target=run_bob, args=(socket_bob,))\n",
    "alice_thread = threading.Thread(target=run_alice, args=(socket_alice,))\n",
    "\n",
    "bob_thread.start()\n",
    "alice_thread.start()\n",
    "\n",
    "bob_thread.join()\n",
    "alice_thread.join()"
   ]
  }
 ],
 "metadata": {
  "kernelspec": {
   "display_name": "base",
   "language": "python",
   "name": "python3"
  },
  "language_info": {
   "codemirror_mode": {
    "name": "ipython",
    "version": 3
   },
   "file_extension": ".py",
   "mimetype": "text/x-python",
   "name": "python",
   "nbconvert_exporter": "python",
   "pygments_lexer": "ipython3",
   "version": "3.12.7"
  }
 },
 "nbformat": 4,
 "nbformat_minor": 2
}
