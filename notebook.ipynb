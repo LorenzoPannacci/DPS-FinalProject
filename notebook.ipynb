{
 "cells": [
  {
   "cell_type": "markdown",
   "metadata": {},
   "source": [
    "# Dependencies"
   ]
  },
  {
   "cell_type": "code",
   "execution_count": 1,
   "metadata": {},
   "outputs": [
    {
     "name": "stdout",
     "output_type": "stream",
     "text": [
      "Defaulting to user installation because normal site-packages is not writeable\n",
      "Requirement already satisfied: pyzmq in c:\\programdata\\anaconda3\\lib\\site-packages (25.1.2)\n",
      "Requirement already satisfied: cryptography in c:\\programdata\\anaconda3\\lib\\site-packages (43.0.0)\n",
      "Requirement already satisfied: sympy in c:\\programdata\\anaconda3\\lib\\site-packages (1.13.2)\n",
      "Requirement already satisfied: cffi>=1.12 in c:\\programdata\\anaconda3\\lib\\site-packages (from cryptography) (1.17.1)\n",
      "Requirement already satisfied: mpmath<1.4,>=1.1.0 in c:\\programdata\\anaconda3\\lib\\site-packages (from sympy) (1.3.0)\n",
      "Requirement already satisfied: pycparser in c:\\programdata\\anaconda3\\lib\\site-packages (from cffi>=1.12->cryptography) (2.21)\n"
     ]
    }
   ],
   "source": [
    "!pip3 install pyzmq cryptography sympy"
   ]
  },
  {
   "cell_type": "markdown",
   "metadata": {},
   "source": [
    "# Initialization"
   ]
  },
  {
   "cell_type": "code",
   "execution_count": 1,
   "metadata": {},
   "outputs": [],
   "source": [
    "from cryptography.fernet import Fernet\n",
    "import sympy\n",
    "import random\n",
    "import zmq\n",
    "import threading"
   ]
  },
  {
   "cell_type": "code",
   "execution_count": 2,
   "metadata": {},
   "outputs": [],
   "source": [
    "# math\n",
    "BITS_OF_PRIME_GROUP = 64\n",
    "\n",
    "# socket\n",
    "LOCAL_PORT = 4080\n",
    "SERVER_HOST = \"localhost\"\n",
    "SERVER_PORT = 4080"
   ]
  },
  {
   "cell_type": "markdown",
   "metadata": {},
   "source": [
    "# Basics"
   ]
  },
  {
   "cell_type": "markdown",
   "metadata": {},
   "source": [
    "## Primes and Modular arithmetics"
   ]
  },
  {
   "cell_type": "code",
   "execution_count": 3,
   "metadata": {},
   "outputs": [],
   "source": [
    "def get_random_prime():\n",
    "    \"\"\"\n",
    "    Generate a random prime number of the specified number of bits.\n",
    "    \"\"\"\n",
    "\n",
    "    lower_bound = 2**(BITS_OF_PRIME_GROUP - 1)\n",
    "    upper_bound = 2**BITS_OF_PRIME_GROUP - 1\n",
    "\n",
    "    prime = sympy.randprime(lower_bound, upper_bound)\n",
    "    \n",
    "    return prime\n",
    "\n",
    "def find_generator(prime):\n",
    "    \"\"\"\n",
    "    For every prime divisor q of p -1 check if g^{(p-1)/q} ≡ 1 mod p. If that happens, discard g\n",
    "    If it survives till the last prime divisor of p - 1 is a generator.\n",
    "    \"\"\"\n",
    "\n",
    "    factors = sympy.primefactors(prime - 1)\n",
    "\n",
    "    while True:\n",
    "        candidate = random.randint(1, prime - 1)\n",
    "\n",
    "        for factor in factors:\n",
    "            if pow(candidate, (prime - 1) // factor, prime) == 1:\n",
    "                break\n",
    "\n",
    "        else:\n",
    "            return candidate"
   ]
  },
  {
   "cell_type": "markdown",
   "metadata": {},
   "source": [
    "## Secret Key Encryption"
   ]
  },
  {
   "cell_type": "markdown",
   "metadata": {},
   "source": [
    "The cryptography library contains Fernet, an implementation of symmetric (secret key) authenticated cryptography."
   ]
  },
  {
   "cell_type": "code",
   "execution_count": 4,
   "metadata": {},
   "outputs": [],
   "source": [
    "def secret_generate_key():\n",
    "    \"\"\"\n",
    "    Generate a secret key.\n",
    "    \"\"\"\n",
    "\n",
    "    key = Fernet.generate_key()\n",
    "\n",
    "    return key\n",
    "\n",
    "def secret_encrypt(msg, key):\n",
    "    \"\"\"\n",
    "    Encrypts a message with a key.\n",
    "    https://cryptography.io/en/latest/fernet/\n",
    "    \"\"\"\n",
    "\n",
    "    # initialize\n",
    "    f = Fernet(key)\n",
    "\n",
    "    # encrypt\n",
    "    token = f.encrypt(msg)\n",
    "\n",
    "    return token\n",
    "\n",
    "def secret_decrypt(token, key):\n",
    "    \"\"\"\n",
    "    Decrypts a message with a key.\n",
    "    https://cryptography.io/en/latest/fernet/\n",
    "    \"\"\"\n",
    "\n",
    "    # initialize\n",
    "    f = Fernet(key)\n",
    "\n",
    "    # decrypt\n",
    "    msg = f.decrypt(token)\n",
    "\n",
    "    return msg"
   ]
  },
  {
   "cell_type": "code",
   "execution_count": 5,
   "metadata": {},
   "outputs": [
    {
     "name": "stdout",
     "output_type": "stream",
     "text": [
      "Original message:  b'Hello, World!'\n",
      "Encrypted message:  b'gAAAAABnmnn2qSR56vtZYP18YI50-t6rMt3XLQmvVqohF_XilhxCiwCTxJbsjsIEzxogegOwSauADNgFmkuS42vkkRz4M_z3PQ=='\n",
      "Decrypted message:  b'Hello, World!'\n",
      "Key:  b'ysZYET0OwnuekzOMFT9cPfwU-8ntlvwCQzi61CUe7Es='\n"
     ]
    }
   ],
   "source": [
    "test_string = b\"Hello, World!\"\n",
    "\n",
    "# generate a random key\n",
    "key = secret_generate_key()\n",
    "\n",
    "# encrypt the test string\n",
    "token = secret_encrypt(test_string, key)\n",
    "\n",
    "# decrypt the test string\n",
    "msg = secret_decrypt(token, key)\n",
    "\n",
    "print(\"Original message: \", test_string)\n",
    "print(\"Encrypted message: \", token)\n",
    "print(\"Decrypted message: \", msg)\n",
    "print(\"Key: \", key)"
   ]
  },
  {
   "cell_type": "markdown",
   "metadata": {},
   "source": [
    "## Public Key Encryption"
   ]
  },
  {
   "cell_type": "markdown",
   "metadata": {},
   "source": [
    "Implementation of ElGamal encryption scheme."
   ]
  },
  {
   "cell_type": "code",
   "execution_count": 13,
   "metadata": {},
   "outputs": [],
   "source": [
    "###############################################\n",
    "# IMPLEMENTATION OF ELGAMAL ENCRYPTION SCHEME #\n",
    "###############################################\n",
    "\n",
    "def elgamal_generate_keys():\n",
    "    \"\"\"\n",
    "    Generate public and private keys for the ElGamal encryption scheme.\n",
    "    The naming scheme follows what has been used in the course slides.\n",
    "    \"\"\"\n",
    "\n",
    "    # generate random prime that defines the group\n",
    "    p = get_random_prime()\n",
    "\n",
    "    # find a generator for the group\n",
    "    g = find_generator(p)\n",
    "\n",
    "    # generate a private key as a random number\n",
    "    x = random.randint(1, p - 1)\n",
    "\n",
    "    # calculate the public key as g^x mod p\n",
    "    h = pow(g, x, p)\n",
    "\n",
    "    return (g, p, h), x\n",
    "\n",
    "def elgamal_encrypt(msg, public_key):\n",
    "    \"\"\"\n",
    "    Encrypt a message with the ElGamal encryption scheme.\n",
    "    \"\"\"\n",
    "\n",
    "    # from bytes to integer\n",
    "    msg = int.from_bytes(msg, byteorder=\"big\")\n",
    "\n",
    "    # unpack public key\n",
    "    g, p, h = public_key\n",
    "\n",
    "    # generate a random number\n",
    "    r = random.randint(1, p - 1)\n",
    "\n",
    "    # calculate the two powers of the ciphertext\n",
    "    gr = pow(g, r, p)\n",
    "    hr = pow(h, r, p)\n",
    "\n",
    "    # calculate the ciphertext\n",
    "    c = (gr, hr * msg % p)\n",
    "\n",
    "    return c\n",
    "\n",
    "def elgamal_decrypt(c, private_key, public_key):\n",
    "    \"\"\"\n",
    "    Decrypt a message with the ElGamal encryption scheme.\n",
    "    \"\"\"\n",
    "\n",
    "    # unpack private key\n",
    "    x = private_key\n",
    "\n",
    "    # unpack public key\n",
    "    g, p, h = public_key\n",
    "\n",
    "    # unpack ciphertext\n",
    "    c1, c2 = c\n",
    "\n",
    "    # decrypt message\n",
    "    m = (c2 * pow(c1, p - 1 - x, p)) % p\n",
    "\n",
    "    # from integer to bytes\n",
    "    m = m.to_bytes((m.bit_length() + 7) // 8, byteorder=\"big\")\n",
    "\n",
    "    return m"
   ]
  },
  {
   "cell_type": "code",
   "execution_count": 14,
   "metadata": {},
   "outputs": [
    {
     "name": "stdout",
     "output_type": "stream",
     "text": [
      "Original message: Hello\n",
      "Encrypted message: (2274466495891982890, 1068617230306194410)\n",
      "Decrypted message: Hello\n"
     ]
    }
   ],
   "source": [
    "#####################################\n",
    "# TEST OF ELGAMAL ENCRYPTION SCHEME #\n",
    "#####################################\n",
    "\n",
    "# generate keys\n",
    "public_key, private_key = elgamal_generate_keys()\n",
    "\n",
    "# message\n",
    "message = b\"Hello\"\n",
    "\n",
    "# encrypt message\n",
    "ciphertext = elgamal_encrypt(message, public_key)\n",
    "\n",
    "# decrypt message\n",
    "retrieved = elgamal_decrypt(ciphertext, private_key, public_key)\n",
    "\n",
    "\n",
    "print(\"Original message:\", message.decode(\"utf-8\"))\n",
    "print(\"Encrypted message:\", ciphertext)\n",
    "print(\"Decrypted message:\", retrieved.decode(\"utf-8\"))"
   ]
  },
  {
   "cell_type": "markdown",
   "metadata": {},
   "source": [
    "## Socket Communication"
   ]
  },
  {
   "cell_type": "code",
   "execution_count": 8,
   "metadata": {},
   "outputs": [],
   "source": [
    "class Socket:\n",
    "    def __init__(self, socket_type, address):\n",
    "        \"\"\"\n",
    "        Initialize a ZeroMQ socket.\n",
    "        socket_type can be zmq.REQ, zmq.REP, zmq.PUB, zmq.SUB\n",
    "        \"\"\"\n",
    "\n",
    "        # init socket settings\n",
    "        self.context = zmq.Context.instance()\n",
    "        self.socket = self.context.socket(socket_type)\n",
    "        self.address = address\n",
    "\n",
    "        if socket_type == zmq.REP:\n",
    "            self.bind()\n",
    "        elif socket_type == zmq.REQ:\n",
    "            self.connect()\n",
    "    \n",
    "    def bind(self):\n",
    "        \"\"\"\n",
    "        Bind the socket to given address.\n",
    "        \"\"\"\n",
    "\n",
    "        self.socket.bind(self.address)\n",
    "    \n",
    "    def connect(self):\n",
    "        \"\"\"\n",
    "        Connect the socket to a given address.\n",
    "        \"\"\"\n",
    "\n",
    "        self.socket.connect(self.address)\n",
    "    \n",
    "    def send(self, msg):\n",
    "        \"\"\"\n",
    "        Send a message through the socket.\n",
    "        \"\"\"\n",
    "\n",
    "        self.socket.send_pyobj(msg)\n",
    "    \n",
    "    def receive(self):\n",
    "        \"\"\"\n",
    "        Receive a message from the socket.\n",
    "        \"\"\"\n",
    "\n",
    "        return self.socket.recv_pyobj()\n",
    "    \n",
    "    def close(self):\n",
    "        \"\"\"\n",
    "        Close the socket.\n",
    "        \"\"\"\n",
    "\n",
    "        self.socket.close()\n",
    "    \n",
    "    def __del__(self):\n",
    "        \"\"\"\n",
    "        Destructor to close the socket.\n",
    "        \"\"\"\n",
    "\n",
    "        self.close()"
   ]
  },
  {
   "cell_type": "code",
   "execution_count": 9,
   "metadata": {},
   "outputs": [
    {
     "name": "stdout",
     "output_type": "stream",
     "text": [
      "Client received: Hello, Server!\n",
      "Server received: Hello, Client!\n"
     ]
    }
   ],
   "source": [
    "server = Socket(socket_type=zmq.REP, address=f\"tcp://{SERVER_HOST}:{SERVER_PORT}\")\n",
    "client = Socket(socket_type=zmq.REQ, address=f\"tcp://{SERVER_HOST}:{SERVER_PORT}\")\n",
    "\n",
    "client.send(\"Hello, Server!\")\n",
    "print(\"Client received:\", server.receive())\n",
    "\n",
    "server.send(\"Hello, Client!\")\n",
    "print(\"Server received:\", client.receive())\n",
    "\n",
    "server.close()\n",
    "client.close()"
   ]
  },
  {
   "cell_type": "markdown",
   "metadata": {},
   "source": [
    "# Oblivious Transfer - Passive Security"
   ]
  },
  {
   "cell_type": "markdown",
   "metadata": {},
   "source": [
    "Implementation of a 1-out-of-2 Oblivious Transfer protocol with passive security."
   ]
  },
  {
   "cell_type": "code",
   "execution_count": 10,
   "metadata": {},
   "outputs": [],
   "source": [
    "class ObliviousTransfer:\n",
    "    def __init__(self, socket):\n",
    "        # to send and receive messages\n",
    "        self.socket = socket\n",
    "\n",
    "    def receiver_side(self, choice):\n",
    "        \"\"\"\n",
    "        Implement Bob's side of the oblivious transfer protocol with passive security.\n",
    "        \"\"\"\n",
    "\n",
    "        if choice == 0: # Bob wants message 0\n",
    "            pk0, sk0 = elgamal_generate_keys()\n",
    "            pk1, _ = elgamal_generate_keys() # oblivious of secret key\n",
    "            \n",
    "        else: # Bob wants message 1\n",
    "            pk0, _ = elgamal_generate_keys() # oblivious of secret key\n",
    "            pk1, sk1 = elgamal_generate_keys()\n",
    "\n",
    "        # send public keys to Alice\n",
    "        self.socket.send((pk0, pk1))\n",
    "\n",
    "        # receive the ciphertexts\n",
    "        c0, c1 = self.socket.receive()\n",
    "\n",
    "        # delete socket\n",
    "        del self.socket\n",
    "\n",
    "        # decrypt the chosen ciphertext\n",
    "        if choice == 0:\n",
    "            m = elgamal_decrypt(c0, sk0, pk0)\n",
    "        else:\n",
    "            m = elgamal_decrypt(c1, sk1, pk1)\n",
    "\n",
    "        return m\n",
    "    \n",
    "    def sender_side(self, msg0, msg1):\n",
    "        \"\"\"\n",
    "        Implement Alice's side of the oblivious transfer protocol with passive security.\n",
    "        \"\"\"\n",
    "\n",
    "        # get the public keys from Bob\n",
    "        h0, h1 = self.socket.receive()\n",
    "\n",
    "        # encrypt the messages\n",
    "        c0 = elgamal_encrypt(msg0, h0)\n",
    "        c1 = elgamal_encrypt(msg1, h1)\n",
    "\n",
    "        # send the ciphertexts to Bob\n",
    "        self.socket.send((c0, c1))\n",
    "\n",
    "        # delete socket\n",
    "        del self.socket"
   ]
  },
  {
   "cell_type": "code",
   "execution_count": 15,
   "metadata": {},
   "outputs": [
    {
     "name": "stdout",
     "output_type": "stream",
     "text": [
      "Bob received: World\n"
     ]
    }
   ],
   "source": [
    "# Example of Oblivious Transfer with passive security\n",
    "\n",
    "socket_bob = Socket(socket_type=zmq.REQ, address=f\"tcp://{SERVER_HOST}:{SERVER_PORT}\")\n",
    "socket_alice = Socket(socket_type=zmq.REP, address=f\"tcp://{SERVER_HOST}:{SERVER_PORT}\")\n",
    "\n",
    "def run_bob(socket_bob):\n",
    "    # initialize Bob's side\n",
    "    ot_bob = ObliviousTransfer(socket_bob)\n",
    "\n",
    "    # Bob wants message 1\n",
    "    choice = 1\n",
    "\n",
    "    # run Bob's side of the protocol\n",
    "    received_message = ot_bob.receiver_side(choice)\n",
    "\n",
    "    # show the received message\n",
    "    print(\"Bob received:\", received_message.decode(\"utf-8\"))\n",
    "\n",
    "    # close the socket\n",
    "    socket_bob.close()\n",
    "\n",
    "def run_alice(socket_alice):\n",
    "    # initialize Alice's side\n",
    "    ot_alice = ObliviousTransfer(socket_alice)\n",
    "\n",
    "    # get Alice's messages\n",
    "    msg0 = b\"Hello\"\n",
    "    msg1 = b\"World\"\n",
    "\n",
    "    # run Alice's side of the protocol\n",
    "    ot_alice.sender_side(msg0, msg1)\n",
    "\n",
    "    # close the socket\n",
    "    socket_alice.close()\n",
    "\n",
    "# run Alice and Bob in separate threads\n",
    "bob_thread = threading.Thread(target=run_bob, args=(socket_bob,))\n",
    "alice_thread = threading.Thread(target=run_alice, args=(socket_alice,))\n",
    "\n",
    "bob_thread.start()\n",
    "alice_thread.start()\n",
    "\n",
    "bob_thread.join()\n",
    "alice_thread.join()"
   ]
  }
 ],
 "metadata": {
  "kernelspec": {
   "display_name": "base",
   "language": "python",
   "name": "python3"
  },
  "language_info": {
   "codemirror_mode": {
    "name": "ipython",
    "version": 3
   },
   "file_extension": ".py",
   "mimetype": "text/x-python",
   "name": "python",
   "nbconvert_exporter": "python",
   "pygments_lexer": "ipython3",
   "version": "3.12.7"
  }
 },
 "nbformat": 4,
 "nbformat_minor": 2
}
